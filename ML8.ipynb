{
  "nbformat": 4,
  "nbformat_minor": 0,
  "metadata": {
    "colab": {
      "name": "ML8.ipynb",
      "provenance": [],
      "authorship_tag": "ABX9TyPze9B+CtjPPqNH/wzKW4Le",
      "include_colab_link": true
    },
    "kernelspec": {
      "name": "python3",
      "display_name": "Python 3"
    },
    "accelerator": "GPU"
  },
  "cells": [
    {
      "cell_type": "markdown",
      "metadata": {
        "id": "view-in-github",
        "colab_type": "text"
      },
      "source": [
        "<a href=\"https://colab.research.google.com/github/Last-Vega/Klis_Workshop_MachineLearning/blob/master/ML8.ipynb\" target=\"_parent\"><img src=\"https://colab.research.google.com/assets/colab-badge.svg\" alt=\"Open In Colab\"/></a>"
      ]
    },
    {
      "cell_type": "code",
      "metadata": {
        "id": "Qi_z_VwW0JyZ"
      },
      "source": [
        "# torchtextというパッケージをアップデートしておく（古いバージョンの場合は後で出現する単語埋め込みが読み込めない）\n",
        "!pip install -U torchtext==0.7.0"
      ],
      "execution_count": null,
      "outputs": []
    },
    {
      "cell_type": "code",
      "metadata": {
        "id": "eX2zRLgd0YC7",
        "outputId": "6f373477-8e62-4c3b-f74b-136dd95c5843",
        "colab": {
          "base_uri": "https://localhost:8080/"
        }
      },
      "source": [
        "# 分かち書きを行うためにjanomeというPythonパッケージをインストール\n",
        "!pip install janome"
      ],
      "execution_count": 2,
      "outputs": [
        {
          "output_type": "stream",
          "text": [
            "Requirement already satisfied: janome in /usr/local/lib/python3.6/dist-packages (0.4.1)\n"
          ],
          "name": "stdout"
        }
      ]
    },
    {
      "cell_type": "code",
      "metadata": {
        "id": "ydl7w4hK0cLO",
        "outputId": "78671e02-c8b9-4bec-8db0-7c584bc3e375",
        "colab": {
          "base_uri": "https://localhost:8080/"
        }
      },
      "source": [
        "# ファイルのダウンロード\n",
        "!wget \"https://drive.google.com/uc?export=download&id=1c0tXuRt2GE8szurDI01P0YkbgfEuNi6o\" -O twitterJSA_data.csv"
      ],
      "execution_count": 3,
      "outputs": [
        {
          "output_type": "stream",
          "text": [
            "--2020-10-31 22:45:32--  https://drive.google.com/uc?export=download&id=1c0tXuRt2GE8szurDI01P0YkbgfEuNi6o\n",
            "Resolving drive.google.com (drive.google.com)... 74.125.20.102, 74.125.20.101, 74.125.20.113, ...\n",
            "Connecting to drive.google.com (drive.google.com)|74.125.20.102|:443... connected.\n",
            "HTTP request sent, awaiting response... 302 Moved Temporarily\n",
            "Location: https://doc-10-58-docs.googleusercontent.com/docs/securesc/ha0ro937gcuc7l7deffksulhg5h7mbp1/ehopv8k0keu1oi7bd5t1ajpr8ncq7vu9/1604184300000/07803272131756145988/*/1c0tXuRt2GE8szurDI01P0YkbgfEuNi6o?e=download [following]\n",
            "Warning: wildcards not supported in HTTP.\n",
            "--2020-10-31 22:45:32--  https://doc-10-58-docs.googleusercontent.com/docs/securesc/ha0ro937gcuc7l7deffksulhg5h7mbp1/ehopv8k0keu1oi7bd5t1ajpr8ncq7vu9/1604184300000/07803272131756145988/*/1c0tXuRt2GE8szurDI01P0YkbgfEuNi6o?e=download\n",
            "Resolving doc-10-58-docs.googleusercontent.com (doc-10-58-docs.googleusercontent.com)... 74.125.195.132, 2607:f8b0:400e:c09::84\n",
            "Connecting to doc-10-58-docs.googleusercontent.com (doc-10-58-docs.googleusercontent.com)|74.125.195.132|:443... connected.\n",
            "HTTP request sent, awaiting response... 200 OK\n",
            "Length: unspecified [text/csv]\n",
            "Saving to: ‘twitterJSA_data.csv’\n",
            "\n",
            "twitterJSA_data.csv     [ <=>                ]   3.77M  --.-KB/s    in 0.02s   \n",
            "\n",
            "2020-10-31 22:45:32 (235 MB/s) - ‘twitterJSA_data.csv’ saved [3958479]\n",
            "\n"
          ],
          "name": "stdout"
        }
      ]
    },
    {
      "cell_type": "code",
      "metadata": {
        "id": "kNPADYox0kgI",
        "outputId": "b0aae6f2-4281-4b28-e73a-3cf6afc61408",
        "colab": {
          "base_uri": "https://localhost:8080/"
        }
      },
      "source": [
        "from torchtext import data\n",
        "from janome.tokenizer import Tokenizer # janomeからTokenizerクラスをimportする\n",
        "\n",
        "# janomeはPythonで書かれた形態素解析器であり単語の分かち書きなどが可能\n",
        "tokenizer = Tokenizer(wakati=True)\n",
        "\n",
        "def tokenize(text):\n",
        "    # 単語の分かち書きを行う\n",
        "    return list(tokenizer.tokenize(text))\n",
        "\n",
        "# Fieldオブジェクトは読み込んだデータの各項目（CSVの場合は各列）をどのように処理するかを決定する\n",
        "# Fieldの引数に何も指定しない場合には，テキストのような系列データと仮定し指定されたtokenizerで処理される\n",
        "# 今回用いるファイル中のidやlabelのように，系列データでなく，tokenizeする必要もないデータの場合は\n",
        "# sequential=False, use_vocab=Falseを指定する\n",
        "ID = data.Field(sequential=False, use_vocab=False)\n",
        "LABEL = data.Field(sequential=False, use_vocab=False)\n",
        "TEXT = data.Field(tokenize=tokenize) # tokenize引数に指定した関数でテキストを処理する\n",
        "\n",
        "# CSVファイルを読み込み\n",
        "dataset = data.TabularDataset(\n",
        "    path='./twitterJSA_data.csv', # 読み込みファイル\n",
        "    format='csv', # 読み込むファイルの形式\n",
        "    fields=[('id', ID), ('label', LABEL), ('text', TEXT)], # 各列ごとにFieldオブジェクトを設定\n",
        "    skip_header=True # 最初の行は各列の見出しなので読み込まない\n",
        "    )"
      ],
      "execution_count": 4,
      "outputs": [
        {
          "output_type": "stream",
          "text": [
            "/usr/local/lib/python3.6/dist-packages/torchtext/data/field.py:150: UserWarning: Field class will be retired in the 0.8.0 release and moved to torchtext.legacy. Please see 0.7.0 release notes for further information.\n",
            "  warnings.warn('{} class will be retired in the 0.8.0 release and moved to torchtext.legacy. Please see 0.7.0 release notes for further information.'.format(self.__class__.__name__), UserWarning)\n",
            "/usr/local/lib/python3.6/dist-packages/torchtext/data/example.py:68: UserWarning: Example class will be retired in the 0.8.0 release and moved to torchtext.legacy. Please see 0.7.0 release notes for further information.\n",
            "  warnings.warn('Example class will be retired in the 0.8.0 release and moved to torchtext.legacy. Please see 0.7.0 release notes for further information.', UserWarning)\n",
            "/usr/local/lib/python3.6/dist-packages/torchtext/data/example.py:78: UserWarning: Example class will be retired in the 0.8.0 release and moved to torchtext.legacy. Please see 0.7.0 release notes for further information.\n",
            "  warnings.warn('Example class will be retired in the 0.8.0 release and moved to torchtext.legacy. Please see 0.7.0 release notes for further information.', UserWarning)\n"
          ],
          "name": "stderr"
        }
      ]
    },
    {
      "cell_type": "code",
      "metadata": {
        "id": "XgEqBERS0p3M",
        "outputId": "7bbf7bbe-8c3f-491c-9c39-35b1bea7b93f",
        "colab": {
          "base_uri": "https://localhost:8080/"
        }
      },
      "source": [
        "from torch.utils.data import random_split\n",
        "\n",
        "train_size = 20000 # 先頭の20,000件を訓練データとして用いることにする\n",
        "batch_size = 32 # ミニバッチのサイズを設定\n",
        "\n",
        "# 訓練データとテストデータに分割\n",
        "train_dataset, test_dataset = dataset.split(split_ratio=train_size/len(dataset))\n",
        "\n",
        "# 訓練データを読み込むためのイテレータを準備\n",
        "train_iterator = data.BucketIterator(train_dataset, batch_size=batch_size, train=True)\n",
        "test_iterator = data.BucketIterator(test_dataset, batch_size=batch_size, train=False, sort=False)"
      ],
      "execution_count": 5,
      "outputs": [
        {
          "output_type": "stream",
          "text": [
            "/usr/local/lib/python3.6/dist-packages/torchtext/data/iterator.py:48: UserWarning: BucketIterator class will be retired in the 0.8.0 release and moved to torchtext.legacy. Please see 0.7.0 release notes for further information.\n",
            "  warnings.warn('{} class will be retired in the 0.8.0 release and moved to torchtext.legacy. Please see 0.7.0 release notes for further information.'.format(self.__class__.__name__), UserWarning)\n"
          ],
          "name": "stderr"
        }
      ]
    },
    {
      "cell_type": "code",
      "metadata": {
        "id": "cp2Sf_tC07pl"
      },
      "source": [
        "# TEXTフィールド中の単語を収集して，単語の種類数や頻度などを計算し，これをVocabクラスのオブジェクトしてまとめて，\n",
        "# TEXTフィールドのデータ属性として保存する\n",
        "TEXT.build_vocab(train_dataset, min_freq=5) # `min_freq=5`: 頻度が5回未満の単語は無視する設定"
      ],
      "execution_count": 6,
      "outputs": []
    },
    {
      "cell_type": "code",
      "metadata": {
        "id": "YZJCcGOm1Alr",
        "outputId": "51bb4da9-eb2f-469c-9bd3-143fb89ae581",
        "colab": {
          "base_uri": "https://localhost:8080/"
        }
      },
      "source": [
        "from torchtext.vocab import FastText\n",
        "\n",
        "# FastTextの単語埋め込みを設定し，TEXT.vocabを更新\n",
        "# 単語埋め込みをダウンロードする必要があるため少し時間がかかる．\n",
        "TEXT.build_vocab(train_dataset, min_freq=5, vectors=FastText(language=\"ja\"))"
      ],
      "execution_count": 7,
      "outputs": [
        {
          "output_type": "stream",
          "text": [
            ".vector_cache/wiki.ja.vec: 1.37GB [00:26, 52.8MB/s]                            \n",
            "  0%|          | 0/580000 [00:00<?, ?it/s]Skipping token b'580000' with 1-dimensional vector [b'300']; likely a header\n",
            "100%|█████████▉| 579756/580000 [01:01<00:00, 9546.73it/s]"
          ],
          "name": "stderr"
        }
      ]
    },
    {
      "cell_type": "code",
      "metadata": {
        "id": "p9CWj6FU1ELR"
      },
      "source": [
        "import torch\n",
        "import torch.nn as nn\n",
        "import torch.nn.functional as F\n",
        "\n",
        "class TextClassifier(nn.Module):\n",
        "    def __init__(self, vocab):\n",
        "        super(TextClassifier, self).__init__()\n",
        "\n",
        "        # 単語埋め込み（FastText）を設定する\n",
        "        self.embedding = torch.nn.Embedding.from_pretrained(\n",
        "            embeddings=vocab.vectors, freeze=False)\n",
        "        \n",
        "        emb_size = vocab.vectors.shape[1]\n",
        "        self.lstm = nn.LSTM(emb_size, 100) # LSTMを用意する\n",
        "        self.fc = nn.Linear(100, 1) # 1 x 100 の行列（この場合はベクトル）を含む全結合層を設定\n",
        "\n",
        "    def forward(self, seq):\n",
        "        x = self.embedding(seq) # 各単語を単語埋め込みに変換する\n",
        "        output, (h_n, c_n) = self.lstm(x) # LSTMを適用する\n",
        "        h = h_n.view(-1, 100) # 各系列の最後の入力（単語）に対応する隠れ状態は，1 x バッチサイズ x 隠れ状態の次元数，となっているため，これを，バッチサイズ x 隠れ状態の次元数，と変換する．\n",
        "        y = self.fc(F.relu(h)) # ReLUをかけてから，全結合層に通す．\n",
        "        y = y.squeeze() # yは バッチサイズ x 1 という行列になっているため，バッチサイズと同じ次元数を持つベクトルに変換\n",
        "        return y"
      ],
      "execution_count": 8,
      "outputs": []
    },
    {
      "cell_type": "code",
      "metadata": {
        "id": "JaTlEjT_1KYM",
        "outputId": "66ab12a2-61a4-4090-bcc0-e91f40743f90",
        "colab": {
          "base_uri": "https://localhost:8080/"
        }
      },
      "source": [
        "import torch\n",
        "import torch.optim as optim\n",
        "\n",
        "device = torch.device(\"cuda\" if torch.cuda.is_available() else \"cpu\") # CPUもしくはGPUのどちらを使うかを設定\n",
        "model = TextClassifier(TEXT.vocab) # ニューラルネットワークモデルのインスタンスを生成\n",
        "model = model.to(device) # CPUもしくはGPUのどちらを設定\n",
        "optimizer = optim.Adam(model.parameters()) # 基本的な学習方法はミニバッチ勾配降下法ではあるが，その中でもよく用いられるAdamと呼ばれる方法を用いることにする\n",
        "\n",
        "criterion = nn.BCEWithLogitsLoss() # 二値分類用の交差エントロピーを最小化することにする\n",
        "\n",
        "epoch_size = 20 # 勾配降下法はすべてのデータでパラメータを更新したら終わりではなく，全データでの更新（=1エポック）を複数回行う必要がある\n",
        "\n",
        "model.train() # モデルを学習モードに変更\n",
        "\n",
        "# `epoch_size`の数だけ以下を繰り返す\n",
        "for epoch in range(epoch_size):\n",
        "    losses = []\n",
        "    # イテレータはミニバッチ勾配降下法のために，`batch_size`で指定した数ごとにデータをわけて読み込んでくれる．\n",
        "    for batch_idx, batch in enumerate(train_iterator):\n",
        "        texts, labels = batch.text.to(device), batch.label.to(device)\n",
        "        optimizer.zero_grad() # 勾配の初期化\n",
        "        y = model(texts) # 現時点でのモデルの出力を得る\n",
        "        loss = criterion(y, labels.type(torch.float)) # 交差エントロピーの計算\n",
        "        loss.backward() # 交差エントロピーの勾配計算\n",
        "        optimizer.step() # パラメータ更新\n",
        "        losses.append(loss.item())\n",
        "\n",
        "    # 現在の交差エントロピーを出力\n",
        "    print('Epoch: {}\\tCross Entropy: {:.6f}'.format(epoch, sum(losses)))"
      ],
      "execution_count": 9,
      "outputs": [
        {
          "output_type": "stream",
          "text": [
            "/usr/local/lib/python3.6/dist-packages/torchtext/data/batch.py:23: UserWarning: Batch class will be retired in the 0.8.0 release and moved to torchtext.legacy. Please see 0.7.0 release notes for further information.\n",
            "  warnings.warn('{} class will be retired in the 0.8.0 release and moved to torchtext.legacy. Please see 0.7.0 release notes for further information.'.format(self.__class__.__name__), UserWarning)\n"
          ],
          "name": "stderr"
        },
        {
          "output_type": "stream",
          "text": [
            "Epoch: 0\tCross Entropy: 419.400552\n"
          ],
          "name": "stdout"
        },
        {
          "output_type": "stream",
          "text": [
            "\r100%|█████████▉| 579756/580000 [01:20<00:00, 9546.73it/s]"
          ],
          "name": "stderr"
        },
        {
          "output_type": "stream",
          "text": [
            "Epoch: 1\tCross Entropy: 418.658048\n",
            "Epoch: 2\tCross Entropy: 416.368108\n",
            "Epoch: 3\tCross Entropy: 370.661890\n",
            "Epoch: 4\tCross Entropy: 344.464257\n",
            "Epoch: 5\tCross Entropy: 334.080223\n",
            "Epoch: 6\tCross Entropy: 325.701517\n",
            "Epoch: 7\tCross Entropy: 318.543623\n",
            "Epoch: 8\tCross Entropy: 309.687193\n",
            "Epoch: 9\tCross Entropy: 270.733482\n",
            "Epoch: 10\tCross Entropy: 194.678916\n",
            "Epoch: 11\tCross Entropy: 157.676627\n",
            "Epoch: 12\tCross Entropy: 135.690936\n",
            "Epoch: 13\tCross Entropy: 121.633013\n",
            "Epoch: 14\tCross Entropy: 109.254712\n",
            "Epoch: 15\tCross Entropy: 99.319970\n",
            "Epoch: 16\tCross Entropy: 93.378236\n",
            "Epoch: 17\tCross Entropy: 83.314507\n",
            "Epoch: 18\tCross Entropy: 80.174575\n",
            "Epoch: 19\tCross Entropy: 72.020788\n"
          ],
          "name": "stdout"
        }
      ]
    },
    {
      "cell_type": "code",
      "metadata": {
        "id": "9yVKpHQu1Mem",
        "outputId": "a0000e1f-a85c-49d4-cd1f-da07c367cc6f",
        "colab": {
          "base_uri": "https://localhost:8080/"
        }
      },
      "source": [
        "correct = 0\n",
        "model.eval() # モデルを評価モードに変更\n",
        "for batch_idx, batch in enumerate(test_iterator):\n",
        "    texts, labels = batch.text.to(device), batch.label.to(device)\n",
        "    y = model(texts) # モデルの出力を得る\n",
        "    result = torch.sigmoid(y) # `TextClassifier`ではsigmoid関数を適用していなかったのでここで適用\n",
        "    prediction = result >= 0.5 # `result`ベクトルと同じ次元を持ち，`result`の中で0.5以上である次元がTrue，それ以外がFalseであるベクトルを`prediction`とする\n",
        "    target = labels == 1 # `labels`ベクトルと同じ次元を持ち，`labels`の中で1である次元がTrue，それ以外がFalseであるベクトルを`target`とする\n",
        "    correct_num = target.eq(prediction).sum().item() # `prediction`ベクトルと`target`ベクトルでTrue/Falseが一致したものの数を数える\n",
        "    correct += correct_num\n",
        "\n",
        "# test_iterator.datasetにはテストデータ全体が入っているので，これの長さはテストデータの事例数となる\n",
        "print(\"Accuracy: {:.3f}\".format(correct / len(test_iterator.dataset)))"
      ],
      "execution_count": 10,
      "outputs": [
        {
          "output_type": "stream",
          "text": [
            "/usr/local/lib/python3.6/dist-packages/torchtext/data/batch.py:23: UserWarning: Batch class will be retired in the 0.8.0 release and moved to torchtext.legacy. Please see 0.7.0 release notes for further information.\n",
            "  warnings.warn('{} class will be retired in the 0.8.0 release and moved to torchtext.legacy. Please see 0.7.0 release notes for further information.'.format(self.__class__.__name__), UserWarning)\n"
          ],
          "name": "stderr"
        },
        {
          "output_type": "stream",
          "text": [
            "Accuracy: 0.832\n"
          ],
          "name": "stdout"
        }
      ]
    }
  ]
}