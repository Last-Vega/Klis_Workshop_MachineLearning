{
 "cells": [
  {
   "cell_type": "code",
   "execution_count": 1,
   "metadata": {},
   "outputs": [
    {
     "name": "stdout",
     "output_type": "stream",
     "text": [
      "類学館書図・報情識知\n"
     ]
    }
   ],
   "source": [
    "def inverse(str):\n",
    "    inversed = list(str)[::-1]\n",
    "    return ''.join(inversed)\n",
    "\n",
    "str = '知識情報・図書館学類'\n",
    "print(inverse(str))"
   ]
  },
  {
   "cell_type": "code",
   "execution_count": 2,
   "metadata": {},
   "outputs": [
    {
     "name": "stdout",
     "output_type": "stream",
     "text": [
      "{1: 3, 2: 3, 3: 2, 4: 2, 5: 3}\n"
     ]
    }
   ],
   "source": [
    "def arr_count(arr):\n",
    "    countup = {}\n",
    "    for num in arr:\n",
    "        if num not in countup:\n",
    "            countup[num] = 1\n",
    "        else:\n",
    "            countup[num] += 1\n",
    "    return countup\n",
    "\n",
    "arr = [1, 1, 2, 3, 4, 4, 5, 5, 5, 3, 2, 2, 1]\n",
    "print(arr_count(arr))"
   ]
  },
  {
   "cell_type": "code",
   "execution_count": 3,
   "metadata": {},
   "outputs": [
    {
     "name": "stdout",
     "output_type": "stream",
     "text": [
      "2.923076923076923\n"
     ]
    }
   ],
   "source": [
    "def arr_ave(arr):\n",
    "    if len(arr) == 0:\n",
    "        return 0\n",
    "    else:\n",
    "        sum = 0\n",
    "        for num in arr:\n",
    "            sum += num\n",
    "        return sum/len(arr)\n",
    "\n",
    "print(arr_ave(arr))"
   ]
  },
  {
   "cell_type": "code",
   "execution_count": null,
   "metadata": {},
   "outputs": [],
   "source": []
  }
 ],
 "metadata": {
  "kernelspec": {
   "display_name": "Python 3",
   "language": "python",
   "name": "python3"
  },
  "language_info": {
   "codemirror_mode": {
    "name": "ipython",
    "version": 3
   },
   "file_extension": ".py",
   "mimetype": "text/x-python",
   "name": "python",
   "nbconvert_exporter": "python",
   "pygments_lexer": "ipython3",
   "version": "3.8.3"
  }
 },
 "nbformat": 4,
 "nbformat_minor": 4
}
