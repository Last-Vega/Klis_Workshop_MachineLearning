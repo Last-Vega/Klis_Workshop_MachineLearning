{
  "nbformat": 4,
  "nbformat_minor": 0,
  "metadata": {
    "kernelspec": {
      "display_name": "Python 3",
      "language": "python",
      "name": "python3"
    },
    "language_info": {
      "codemirror_mode": {
        "name": "ipython",
        "version": 3
      },
      "file_extension": ".py",
      "mimetype": "text/x-python",
      "name": "python",
      "nbconvert_exporter": "python",
      "pygments_lexer": "ipython3",
      "version": "3.8.3"
    },
    "colab": {
      "name": "TrainPokemonEggType.ipynb",
      "provenance": [],
      "include_colab_link": true
    },
    "accelerator": "GPU"
  },
  "cells": [
    {
      "cell_type": "markdown",
      "metadata": {
        "id": "view-in-github",
        "colab_type": "text"
      },
      "source": [
        "<a href=\"https://colab.research.google.com/github/Last-Vega/Klis_Workshop_MachineLearning/blob/master/TrainPokemonEggType.ipynb\" target=\"_parent\"><img src=\"https://colab.research.google.com/assets/colab-badge.svg\" alt=\"Open In Colab\"/></a>"
      ]
    },
    {
      "cell_type": "code",
      "metadata": {
        "colab": {
          "base_uri": "https://localhost:8080/"
        },
        "id": "8wCIMeCymvNT",
        "outputId": "b765f53f-9056-42d7-a052-dbe8d8b13ee9"
      },
      "source": [
        "from google.colab import drive\n",
        "drive.mount('/content/drive')"
      ],
      "execution_count": 1,
      "outputs": [
        {
          "output_type": "stream",
          "text": [
            "Mounted at /content/drive\n"
          ],
          "name": "stdout"
        }
      ]
    },
    {
      "cell_type": "code",
      "metadata": {
        "id": "GvENhHpTm7vS"
      },
      "source": [
        "import zipfile\n",
        "path = '/content/drive/MyDrive/Colab Notebooks/myproject/data/AllDataSet.zip'\n",
        "with zipfile.ZipFile(path) as zf:\n",
        "  zf.extractall()\n",
        "\n"
      ],
      "execution_count": 2,
      "outputs": []
    },
    {
      "cell_type": "code",
      "metadata": {
        "id": "AazzH2uRj7sn"
      },
      "source": [
        "import os\n",
        "from keras.applications.vgg16 import VGG16\n",
        "from keras.preprocessing.image import ImageDataGenerator\n",
        "from keras.models import Sequential, Model\n",
        "from keras.layers import Input, Activation, Dropout, Flatten, Dense\n",
        "from keras.preprocessing.image import ImageDataGenerator\n",
        "from keras import optimizers\n",
        "import numpy as np"
      ],
      "execution_count": 3,
      "outputs": []
    },
    {
      "cell_type": "code",
      "metadata": {
        "id": "HaGLZpBJj7so"
      },
      "source": [
        "# 分類するクラス\n",
        "classes = ['Field', 'Undiscovered', 'Bug', 'Amorphous', 'Dragon', 'Fairy', 'Mineral', \n",
        "           'Flying', 'Grass', 'Human-Like', 'Monster', 'Water']\n",
        "\n",
        "nb_classes = len(classes)\n",
        "\n",
        "img_width, img_height = 150, 150\n",
        "\n",
        "# トレーニング用とバリデーション用の画像格納先\n",
        "# train_data_dir = 'AllDataSet/train'\n",
        "# validation_data_dir = 'AllDataSet/validation'\n",
        "\n",
        "#colab用の格納先\n",
        "train_data_dir = '/content/AllDataSet/train'\n",
        "validation_data_dir = '/content/AllDataSet/validation'\n",
        "\n",
        "nb_train_samples = 5225\n",
        "nb_validation_samples = 4715\n",
        "\n",
        "batch_size = 32\n",
        "nb_epoch = 20"
      ],
      "execution_count": 4,
      "outputs": []
    },
    {
      "cell_type": "code",
      "metadata": {
        "id": "n80j0veYj7so"
      },
      "source": [
        "def vgg_model_maker():\n",
        "    \"\"\" VGG16のモデルをFC層以外使用。FC層のみ作成して結合して用意する \"\"\"\n",
        "\n",
        "    # VGG16のロード。FC層は不要なので include_top=False\n",
        "    input_tensor = Input(shape=(img_width, img_height, 3))\n",
        "    vgg16 = VGG16(include_top=False, weights='imagenet', input_tensor=input_tensor)\n",
        "\n",
        "    # FC層の作成\n",
        "    top_model = Sequential()\n",
        "    top_model.add(Flatten(input_shape=vgg16.output_shape[1:]))\n",
        "    top_model.add(Dense(256, activation='relu'))\n",
        "    top_model.add(Dropout(0.5))\n",
        "    top_model.add(Dense(nb_classes, activation='softmax'))\n",
        "\n",
        "    # VGG16とFC層を結合してモデルを作成\n",
        "    model = Model(inputs=vgg16.input, outputs=top_model(vgg16.output))\n",
        "\n",
        "    return model"
      ],
      "execution_count": 5,
      "outputs": []
    },
    {
      "cell_type": "code",
      "metadata": {
        "id": "24xPqgtqj7so"
      },
      "source": [
        "def image_generator():\n",
        "    \"\"\" ディレクトリ内の画像を読み込んでトレーニングデータとバリデーションデータの作成 \"\"\"\n",
        "    train_datagen = ImageDataGenerator(\n",
        "        rescale=1.0 / 255,\n",
        "        zoom_range=0.2,\n",
        "        horizontal_flip=True)\n",
        "\n",
        "    validation_datagen = ImageDataGenerator(rescale=1.0 / 255)\n",
        "\n",
        "    train_generator = train_datagen.flow_from_directory(\n",
        "        train_data_dir,\n",
        "        target_size=(img_width, img_height),\n",
        "        color_mode='rgb',\n",
        "        classes=classes,\n",
        "        class_mode='categorical',\n",
        "        batch_size=batch_size,\n",
        "        shuffle=True)\n",
        "\n",
        "    validation_generator = validation_datagen.flow_from_directory(\n",
        "        validation_data_dir,\n",
        "        target_size=(img_width, img_height),\n",
        "        color_mode='rgb',\n",
        "        classes=classes,\n",
        "        class_mode='categorical',\n",
        "        batch_size=batch_size,\n",
        "        shuffle=True)\n",
        "\n",
        "    return (train_generator, validation_generator)"
      ],
      "execution_count": 6,
      "outputs": []
    },
    {
      "cell_type": "code",
      "metadata": {
        "id": "zl68HxBWj7so"
      },
      "source": [
        "result_dir = 'results'\n",
        "if not os.path.exists(result_dir):\n",
        "    os.mkdir(result_dir)"
      ],
      "execution_count": 7,
      "outputs": []
    },
    {
      "cell_type": "code",
      "metadata": {
        "colab": {
          "base_uri": "https://localhost:8080/"
        },
        "id": "x2kUZ6Zij7so",
        "outputId": "0425280c-3394-4d16-c9e4-76522a82eaa6"
      },
      "source": [
        "# モデル作成\n",
        "vgg_model = vgg_model_maker()\n",
        "\n",
        "# 最後のconv層の直前までの層をfreeze\n",
        "for layer in vgg_model.layers[:15]:\n",
        "    layer.trainable = False\n",
        "\n",
        "# 多クラス分類を指定\n",
        "vgg_model.compile(loss='categorical_crossentropy',\n",
        "                  optimizer=optimizers.SGD(lr=1e-3, momentum=0.9),\n",
        "                metrics=['accuracy'])\n",
        "\n",
        "# 画像のジェネレータ生成\n",
        "train_generator, validation_generator = image_generator()\n",
        "\n",
        "# Fine-tuning\n",
        "\n",
        "history = vgg_model.fit_generator(\n",
        "    train_generator,\n",
        "    steps_per_epoch=int(nb_train_samples/batch_size),\n",
        "    epochs=nb_epoch,\n",
        "    validation_data=validation_generator,\n",
        "    validation_steps=int(nb_validation_samples/batch_size)\n",
        ")\n",
        "\n",
        "vgg_model.save_weights(os.path.join(result_dir, 'finetuning.h5'))"
      ],
      "execution_count": 8,
      "outputs": [
        {
          "output_type": "stream",
          "text": [
            "Downloading data from https://storage.googleapis.com/tensorflow/keras-applications/vgg16/vgg16_weights_tf_dim_ordering_tf_kernels_notop.h5\n",
            "58892288/58889256 [==============================] - 2s 0us/step\n",
            "Found 5225 images belonging to 12 classes.\n",
            "Found 4715 images belonging to 12 classes.\n",
            "WARNING:tensorflow:From <ipython-input-8-552602c27b97>:23: Model.fit_generator (from tensorflow.python.keras.engine.training) is deprecated and will be removed in a future version.\n",
            "Instructions for updating:\n",
            "Please use Model.fit, which supports generators.\n",
            "Epoch 1/20\n",
            "163/163 [==============================] - ETA: 0s - loss: 2.4560 - accuracy: 0.1394"
          ],
          "name": "stdout"
        },
        {
          "output_type": "stream",
          "text": [
            "/usr/local/lib/python3.6/dist-packages/PIL/Image.py:932: UserWarning: Palette images with Transparency expressed in bytes should be converted to RGBA images\n",
            "  \"Palette images with Transparency expressed in bytes should be \"\n"
          ],
          "name": "stderr"
        },
        {
          "output_type": "stream",
          "text": [
            "\b\b\b\b\b\b\b\b\b\b\b\b\b\b\b\b\b\b\b\b\b\b\b\b\b\b\b\b\b\b\b\b\b\b\b\b\b\b\b\b\b\b\b\b\b\b\b\b\b\b\b\b\b\b\b\b\b\b\b\b\b\b\b\b\b\b\b\b\b\b\b\b\b\b\b\b\b\b\b\b\b\b\b\b\r163/163 [==============================] - 80s 489ms/step - loss: 2.4560 - accuracy: 0.1394 - val_loss: 2.3475 - val_accuracy: 0.1756\n",
            "Epoch 2/20\n",
            "163/163 [==============================] - 80s 490ms/step - loss: 2.0852 - accuracy: 0.3048 - val_loss: 2.0446 - val_accuracy: 0.3163\n",
            "Epoch 3/20\n",
            "163/163 [==============================] - 80s 488ms/step - loss: 1.6031 - accuracy: 0.4814 - val_loss: 1.7665 - val_accuracy: 0.4116\n",
            "Epoch 4/20\n",
            "163/163 [==============================] - 79s 484ms/step - loss: 1.1286 - accuracy: 0.6461 - val_loss: 1.8439 - val_accuracy: 0.4250\n",
            "Epoch 5/20\n",
            "163/163 [==============================] - 79s 487ms/step - loss: 0.7572 - accuracy: 0.7660 - val_loss: 2.1499 - val_accuracy: 0.3771\n",
            "Epoch 6/20\n",
            "163/163 [==============================] - 79s 485ms/step - loss: 0.4920 - accuracy: 0.8467 - val_loss: 1.8394 - val_accuracy: 0.4609\n",
            "Epoch 7/20\n",
            "163/163 [==============================] - 81s 495ms/step - loss: 0.3623 - accuracy: 0.8866 - val_loss: 2.0104 - val_accuracy: 0.4532\n",
            "Epoch 8/20\n",
            "163/163 [==============================] - 81s 497ms/step - loss: 0.2671 - accuracy: 0.9143 - val_loss: 2.0345 - val_accuracy: 0.4526\n",
            "Epoch 9/20\n",
            "163/163 [==============================] - 80s 493ms/step - loss: 0.1759 - accuracy: 0.9499 - val_loss: 1.8926 - val_accuracy: 0.4875\n",
            "Epoch 10/20\n",
            "163/163 [==============================] - 81s 495ms/step - loss: 0.1400 - accuracy: 0.9588 - val_loss: 2.0749 - val_accuracy: 0.4711\n",
            "Epoch 11/20\n",
            "163/163 [==============================] - 81s 500ms/step - loss: 0.1153 - accuracy: 0.9667 - val_loss: 2.2447 - val_accuracy: 0.4702\n",
            "Epoch 12/20\n",
            "163/163 [==============================] - 81s 497ms/step - loss: 0.0795 - accuracy: 0.9769 - val_loss: 1.9263 - val_accuracy: 0.5336\n",
            "Epoch 13/20\n",
            "163/163 [==============================] - 81s 496ms/step - loss: 0.0649 - accuracy: 0.9836 - val_loss: 2.2324 - val_accuracy: 0.4836\n",
            "Epoch 14/20\n",
            "163/163 [==============================] - 81s 496ms/step - loss: 0.0516 - accuracy: 0.9863 - val_loss: 2.4194 - val_accuracy: 0.4711\n",
            "Epoch 15/20\n",
            "163/163 [==============================] - 79s 488ms/step - loss: 0.0598 - accuracy: 0.9834 - val_loss: 2.1305 - val_accuracy: 0.5185\n",
            "Epoch 16/20\n",
            "163/163 [==============================] - 79s 486ms/step - loss: 0.0474 - accuracy: 0.9861 - val_loss: 2.5175 - val_accuracy: 0.4658\n",
            "Epoch 17/20\n",
            "163/163 [==============================] - 80s 489ms/step - loss: 0.0306 - accuracy: 0.9929 - val_loss: 2.2615 - val_accuracy: 0.4934\n",
            "Epoch 18/20\n",
            "163/163 [==============================] - 80s 492ms/step - loss: 0.0286 - accuracy: 0.9938 - val_loss: 2.4151 - val_accuracy: 0.4858\n",
            "Epoch 19/20\n",
            "163/163 [==============================] - 81s 494ms/step - loss: 0.0295 - accuracy: 0.9923 - val_loss: 2.4489 - val_accuracy: 0.4930\n",
            "Epoch 20/20\n",
            "163/163 [==============================] - 80s 491ms/step - loss: 0.0299 - accuracy: 0.9919 - val_loss: 2.4345 - val_accuracy: 0.4751\n"
          ],
          "name": "stdout"
        }
      ]
    },
    {
      "cell_type": "code",
      "metadata": {
        "colab": {
          "base_uri": "https://localhost:8080/",
          "height": 17
        },
        "id": "SUwPIMYKkN-m",
        "outputId": "cc4ae801-506c-4733-9685-fd538fd701af"
      },
      "source": [
        "from google.colab import files\n",
        "files.download( \"/content/results/finetuning.h5\" )"
      ],
      "execution_count": 9,
      "outputs": [
        {
          "output_type": "display_data",
          "data": {
            "application/javascript": [
              "\n",
              "    async function download(id, filename, size) {\n",
              "      if (!google.colab.kernel.accessAllowed) {\n",
              "        return;\n",
              "      }\n",
              "      const div = document.createElement('div');\n",
              "      const label = document.createElement('label');\n",
              "      label.textContent = `Downloading \"${filename}\": `;\n",
              "      div.appendChild(label);\n",
              "      const progress = document.createElement('progress');\n",
              "      progress.max = size;\n",
              "      div.appendChild(progress);\n",
              "      document.body.appendChild(div);\n",
              "\n",
              "      const buffers = [];\n",
              "      let downloaded = 0;\n",
              "\n",
              "      const channel = await google.colab.kernel.comms.open(id);\n",
              "      // Send a message to notify the kernel that we're ready.\n",
              "      channel.send({})\n",
              "\n",
              "      for await (const message of channel.messages) {\n",
              "        // Send a message to notify the kernel that we're ready.\n",
              "        channel.send({})\n",
              "        if (message.buffers) {\n",
              "          for (const buffer of message.buffers) {\n",
              "            buffers.push(buffer);\n",
              "            downloaded += buffer.byteLength;\n",
              "            progress.value = downloaded;\n",
              "          }\n",
              "        }\n",
              "      }\n",
              "      const blob = new Blob(buffers, {type: 'application/binary'});\n",
              "      const a = document.createElement('a');\n",
              "      a.href = window.URL.createObjectURL(blob);\n",
              "      a.download = filename;\n",
              "      div.appendChild(a);\n",
              "      a.click();\n",
              "      div.remove();\n",
              "    }\n",
              "  "
            ],
            "text/plain": [
              "<IPython.core.display.Javascript object>"
            ]
          },
          "metadata": {
            "tags": []
          }
        },
        {
          "output_type": "display_data",
          "data": {
            "application/javascript": [
              "download(\"download_cf5a8d57-9163-4d22-9ce2-ee334987830e\", \"finetuning.h5\", 67313936)"
            ],
            "text/plain": [
              "<IPython.core.display.Javascript object>"
            ]
          },
          "metadata": {
            "tags": []
          }
        }
      ]
    },
    {
      "cell_type": "code",
      "metadata": {
        "colab": {
          "base_uri": "https://localhost:8080/",
          "height": 279
        },
        "id": "jawY01Xtj7sp",
        "outputId": "0db298b0-51cd-47f8-e6de-4de44c076cba"
      },
      "source": [
        "import matplotlib.pyplot as plt\n",
        "loss     = history.history['loss']\n",
        "val_loss = history.history['val_loss']\n",
        "\n",
        "nb_epoch = len(loss)\n",
        "plt.plot(range(nb_epoch), loss,     marker='.', label='loss')\n",
        "plt.plot(range(nb_epoch), val_loss, marker='.', label='val_loss')\n",
        "plt.legend(loc='best', fontsize=10)\n",
        "plt.grid()\n",
        "plt.xlabel('epoch')\n",
        "plt.ylabel('loss')\n",
        "plt.show()"
      ],
      "execution_count": 10,
      "outputs": [
        {
          "output_type": "display_data",
          "data": {
            "image/png": "[encoded data removed]",
            "text/plain": [
              "<Figure size 432x288 with 1 Axes>"
            ]
          },
          "metadata": {
            "tags": [],
            "needs_background": "light"
          }
        }
      ]
    },
    {
      "cell_type": "code",
      "metadata": {
        "colab": {
          "base_uri": "https://localhost:8080/",
          "height": 279
        },
        "id": "s3irIJsUj7sp",
        "outputId": "2b69d74f-8ce6-45c4-86bc-54afd0604ea1"
      },
      "source": [
        "loss     = history.history['accuracy']\n",
        "val_loss = history.history['val_accuracy']\n",
        "\n",
        "nb_epoch = len(loss)\n",
        "plt.plot(range(nb_epoch), loss,     marker='.', label='accuracy')\n",
        "plt.plot(range(nb_epoch), val_loss, marker='.', label='val_accuracy')\n",
        "plt.legend(loc='best', fontsize=10)\n",
        "plt.grid()\n",
        "plt.xlabel('epoch')\n",
        "plt.ylabel('accuracy')\n",
        "plt.show()"
      ],
      "execution_count": 11,
      "outputs": [
        {
          "output_type": "display_data",
          "data": {
            "image/png": "[encoded data removed]",
            "text/plain": [
              "<Figure size 432x288 with 1 Axes>"
            ]
          },
          "metadata": {
            "tags": [],
            "needs_background": "light"
          }
        }
      ]
    },
    {
      "cell_type": "code",
      "metadata": {
        "id": "_TLJUGCJj7sp"
      },
      "source": [
        ""
      ],
      "execution_count": 11,
      "outputs": []
    }
  ]
}