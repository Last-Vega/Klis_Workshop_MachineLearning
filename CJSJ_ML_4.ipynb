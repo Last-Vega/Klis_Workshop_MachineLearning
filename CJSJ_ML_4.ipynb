{
  "nbformat": 4,
  "nbformat_minor": 0,
  "metadata": {
    "colab": {
      "name": "CJSJ-ML-4.ipynb",
      "provenance": [],
      "collapsed_sections": [],
      "include_colab_link": true
    },
    "kernelspec": {
      "name": "python3",
      "display_name": "Python 3"
    }
  },
  "cells": [
    {
      "cell_type": "markdown",
      "metadata": {
        "id": "view-in-github",
        "colab_type": "text"
      },
      "source": [
        "<a href=\"https://colab.research.google.com/github/Last-Vega/Klis_Workshop_MachineLearning/blob/master/CJSJ_ML_4.ipynb\" target=\"_parent\"><img src=\"https://colab.research.google.com/assets/colab-badge.svg\" alt=\"Open In Colab\"/></a>"
      ]
    },
    {
      "cell_type": "markdown",
      "metadata": {
        "id": "r2u3Wa6h9wiS"
      },
      "source": [
        "# ロジスティック回帰\n",
        "\n",
        "次に分類タスクについて，基本的なロジスティック回帰モデルを適用してみよう．\n",
        "\n",
        "データセット（講義で説明したところの「経験」）には，乳がんデータを利用する．"
      ]
    },
    {
      "cell_type": "markdown",
      "metadata": {
        "id": "eNyI03o7C4ih"
      },
      "source": [
        "## Breast cancer wisconsin dataset\n",
        "https://archive.ics.uci.edu/ml/datasets/Breast+Cancer+Wisconsin+(Diagnostic)\n",
        "\n",
        "- 胸部腫瘍の診断画像の特徴とそれ[リンクテキスト](https://)が良性と悪性のいずれかであるかを診断した結果が含まれている\n",
        "- 「サンプルデータ」として広く利用される"
      ]
    },
    {
      "cell_type": "code",
      "metadata": {
        "id": "2DM-rRQN-Lxa",
        "outputId": "db5fc377-38d7-46aa-b2b2-873fc9e6f7b9",
        "colab": {
          "base_uri": "https://localhost:8080/",
          "height": 1000
        }
      },
      "source": [
        "from sklearn.datasets import load_breast_cancer # scikit-learnという機械学習のためのPythonパッケージからBreast cancer wisconsin datasetを読み込むための関数load_breast_cancerをimportする\n",
        "cancer = load_breast_cancer() # load_breast_cancer関数を実行してBreast cancer wisconsin datasetを読み込み，それをcancerという変数に代入\n",
        "print(cancer.DESCR) # DESCRという属性にはデータセットの詳細が書かれているので，これをprintで表示させる．"
      ],
      "execution_count": null,
      "outputs": [
        {
          "output_type": "stream",
          "text": [
            ".. _breast_cancer_dataset:\n",
            "\n",
            "Breast cancer wisconsin (diagnostic) dataset\n",
            "--------------------------------------------\n",
            "\n",
            "**Data Set Characteristics:**\n",
            "\n",
            "    :Number of Instances: 569\n",
            "\n",
            "    :Number of Attributes: 30 numeric, predictive attributes and the class\n",
            "\n",
            "    :Attribute Information:\n",
            "        - radius (mean of distances from center to points on the perimeter)\n",
            "        - texture (standard deviation of gray-scale values)\n",
            "        - perimeter\n",
            "        - area\n",
            "        - smoothness (local variation in radius lengths)\n",
            "        - compactness (perimeter^2 / area - 1.0)\n",
            "        - concavity (severity of concave portions of the contour)\n",
            "        - concave points (number of concave portions of the contour)\n",
            "        - symmetry \n",
            "        - fractal dimension (\"coastline approximation\" - 1)\n",
            "\n",
            "        The mean, standard error, and \"worst\" or largest (mean of the three\n",
            "        largest values) of these features were computed for each image,\n",
            "        resulting in 30 features.  For instance, field 3 is Mean Radius, field\n",
            "        13 is Radius SE, field 23 is Worst Radius.\n",
            "\n",
            "        - class:\n",
            "                - WDBC-Malignant\n",
            "                - WDBC-Benign\n",
            "\n",
            "    :Summary Statistics:\n",
            "\n",
            "    ===================================== ====== ======\n",
            "                                           Min    Max\n",
            "    ===================================== ====== ======\n",
            "    radius (mean):                        6.981  28.11\n",
            "    texture (mean):                       9.71   39.28\n",
            "    perimeter (mean):                     43.79  188.5\n",
            "    area (mean):                          143.5  2501.0\n",
            "    smoothness (mean):                    0.053  0.163\n",
            "    compactness (mean):                   0.019  0.345\n",
            "    concavity (mean):                     0.0    0.427\n",
            "    concave points (mean):                0.0    0.201\n",
            "    symmetry (mean):                      0.106  0.304\n",
            "    fractal dimension (mean):             0.05   0.097\n",
            "    radius (standard error):              0.112  2.873\n",
            "    texture (standard error):             0.36   4.885\n",
            "    perimeter (standard error):           0.757  21.98\n",
            "    area (standard error):                6.802  542.2\n",
            "    smoothness (standard error):          0.002  0.031\n",
            "    compactness (standard error):         0.002  0.135\n",
            "    concavity (standard error):           0.0    0.396\n",
            "    concave points (standard error):      0.0    0.053\n",
            "    symmetry (standard error):            0.008  0.079\n",
            "    fractal dimension (standard error):   0.001  0.03\n",
            "    radius (worst):                       7.93   36.04\n",
            "    texture (worst):                      12.02  49.54\n",
            "    perimeter (worst):                    50.41  251.2\n",
            "    area (worst):                         185.2  4254.0\n",
            "    smoothness (worst):                   0.071  0.223\n",
            "    compactness (worst):                  0.027  1.058\n",
            "    concavity (worst):                    0.0    1.252\n",
            "    concave points (worst):               0.0    0.291\n",
            "    symmetry (worst):                     0.156  0.664\n",
            "    fractal dimension (worst):            0.055  0.208\n",
            "    ===================================== ====== ======\n",
            "\n",
            "    :Missing Attribute Values: None\n",
            "\n",
            "    :Class Distribution: 212 - Malignant, 357 - Benign\n",
            "\n",
            "    :Creator:  Dr. William H. Wolberg, W. Nick Street, Olvi L. Mangasarian\n",
            "\n",
            "    :Donor: Nick Street\n",
            "\n",
            "    :Date: November, 1995\n",
            "\n",
            "This is a copy of UCI ML Breast Cancer Wisconsin (Diagnostic) datasets.\n",
            "https://goo.gl/U2Uwz2\n",
            "\n",
            "Features are computed from a digitized image of a fine needle\n",
            "aspirate (FNA) of a breast mass.  They describe\n",
            "characteristics of the cell nuclei present in the image.\n",
            "\n",
            "Separating plane described above was obtained using\n",
            "Multisurface Method-Tree (MSM-T) [K. P. Bennett, \"Decision Tree\n",
            "Construction Via Linear Programming.\" Proceedings of the 4th\n",
            "Midwest Artificial Intelligence and Cognitive Science Society,\n",
            "pp. 97-101, 1992], a classification method which uses linear\n",
            "programming to construct a decision tree.  Relevant features\n",
            "were selected using an exhaustive search in the space of 1-4\n",
            "features and 1-3 separating planes.\n",
            "\n",
            "The actual linear program used to obtain the separating plane\n",
            "in the 3-dimensional space is that described in:\n",
            "[K. P. Bennett and O. L. Mangasarian: \"Robust Linear\n",
            "Programming Discrimination of Two Linearly Inseparable Sets\",\n",
            "Optimization Methods and Software 1, 1992, 23-34].\n",
            "\n",
            "This database is also available through the UW CS ftp server:\n",
            "\n",
            "ftp ftp.cs.wisc.edu\n",
            "cd math-prog/cpo-dataset/machine-learn/WDBC/\n",
            "\n",
            ".. topic:: References\n",
            "\n",
            "   - W.N. Street, W.H. Wolberg and O.L. Mangasarian. Nuclear feature extraction \n",
            "     for breast tumor diagnosis. IS&T/SPIE 1993 International Symposium on \n",
            "     Electronic Imaging: Science and Technology, volume 1905, pages 861-870,\n",
            "     San Jose, CA, 1993.\n",
            "   - O.L. Mangasarian, W.N. Street and W.H. Wolberg. Breast cancer diagnosis and \n",
            "     prognosis via linear programming. Operations Research, 43(4), pages 570-577, \n",
            "     July-August 1995.\n",
            "   - W.H. Wolberg, W.N. Street, and O.L. Mangasarian. Machine learning techniques\n",
            "     to diagnose breast cancer from fine-needle aspirates. Cancer Letters 77 (1994) \n",
            "     163-171.\n"
          ],
          "name": "stdout"
        }
      ]
    },
    {
      "cell_type": "markdown",
      "metadata": {
        "id": "FREoZ4IeM-E6"
      },
      "source": [
        "## データセットの中身\n",
        "\n",
        "以下の10の特徴を複数枚の診断画像ごとに計算し，腫瘍ごとに平均，標準偏差，最大（または最小）値をとった値を腫瘍の特徴として用いている．\n",
        "\n",
        "- 半径\n",
        "- テクスチャ\n",
        "- 周囲長\n",
        "- 面積\n",
        "- 滑らかさ\n",
        "- コンパクトさ\n",
        "- 凹面\n",
        "- 凹点\n",
        "- 対称性\n",
        "- フラクタル寸法"
      ]
    },
    {
      "cell_type": "markdown",
      "metadata": {
        "id": "hUV_ZpMdF0qp"
      },
      "source": [
        "## データセットの確認\n",
        "\n",
        "Breast cancer wisconsin datasetでは，悪性（Malignant）と良性（Benign）の2種類のラベル（クラス）が与えられており，これらのいずれかを各患者ごとに予測する分類タスクを行う．\n",
        "より正確にはあるn=30次元実数値ベクトルxにたいして0または1のいずれかを予測するというタスクである．"
      ]
    },
    {
      "cell_type": "code",
      "metadata": {
        "id": "MI3ce7CLFSJR",
        "outputId": "24868fef-9163-4f24-8929-34f867b139e5",
        "colab": {
          "base_uri": "https://localhost:8080/",
          "height": 251
        }
      },
      "source": [
        "cancer.data # dataという属性に30次元のベクトルが格納されている"
      ],
      "execution_count": null,
      "outputs": [
        {
          "output_type": "execute_result",
          "data": {
            "text/plain": [
              "array([[1.799e+01, 1.038e+01, 1.228e+02, ..., 2.654e-01, 4.601e-01,\n",
              "        1.189e-01],\n",
              "       [2.057e+01, 1.777e+01, 1.329e+02, ..., 1.860e-01, 2.750e-01,\n",
              "        8.902e-02],\n",
              "       [1.969e+01, 2.125e+01, 1.300e+02, ..., 2.430e-01, 3.613e-01,\n",
              "        8.758e-02],\n",
              "       ...,\n",
              "       [1.660e+01, 2.808e+01, 1.083e+02, ..., 1.418e-01, 2.218e-01,\n",
              "        7.820e-02],\n",
              "       [2.060e+01, 2.933e+01, 1.401e+02, ..., 2.650e-01, 4.087e-01,\n",
              "        1.240e-01],\n",
              "       [7.760e+00, 2.454e+01, 4.792e+01, ..., 0.000e+00, 2.871e-01,\n",
              "        7.039e-02]])"
            ]
          },
          "metadata": {
            "tags": []
          },
          "execution_count": 3
        }
      ]
    },
    {
      "cell_type": "code",
      "metadata": {
        "id": "6hre2gZZFIou",
        "outputId": "a4bdd400-4fad-4eed-e5a5-5410e458190c",
        "colab": {
          "base_uri": "https://localhost:8080/",
          "height": 35
        }
      },
      "source": [
        "# 30次元のベクトルは行ベクトル（横長のベクトル）で表現されており，それが569個積み重なることによって行列として表現されている（計画行列とも呼ぶ）．つまり，569行 x 30列の行列となっている．\n",
        "# この行列はnumpy.ndarrayというクラスのオブジェクトとして表現されており，shapeという属性には行と列の値が格納されている．\n",
        "cancer.data.shape"
      ],
      "execution_count": null,
      "outputs": [
        {
          "output_type": "execute_result",
          "data": {
            "text/plain": [
              "(569, 30)"
            ]
          },
          "metadata": {
            "tags": []
          },
          "execution_count": 5
        }
      ]
    },
    {
      "cell_type": "code",
      "metadata": {
        "id": "O7pPaq4bH8-k",
        "outputId": "bc4abede-7ac6-47f9-e7f8-bc8a9402985e",
        "colab": {
          "base_uri": "https://localhost:8080/",
          "height": 107
        }
      },
      "source": [
        "cancer.data[0] # 試しに1行目のベクトルを取り出してみる．30次元のベクトルであることが確認できる．"
      ],
      "execution_count": null,
      "outputs": [
        {
          "output_type": "execute_result",
          "data": {
            "text/plain": [
              "array([1.799e+01, 1.038e+01, 1.228e+02, 1.001e+03, 1.184e-01, 2.776e-01,\n",
              "       3.001e-01, 1.471e-01, 2.419e-01, 7.871e-02, 1.095e+00, 9.053e-01,\n",
              "       8.589e+00, 1.534e+02, 6.399e-03, 4.904e-02, 5.373e-02, 1.587e-02,\n",
              "       3.003e-02, 6.193e-03, 2.538e+01, 1.733e+01, 1.846e+02, 2.019e+03,\n",
              "       1.622e-01, 6.656e-01, 7.119e-01, 2.654e-01, 4.601e-01, 1.189e-01])"
            ]
          },
          "metadata": {
            "tags": []
          },
          "execution_count": 6
        }
      ]
    },
    {
      "cell_type": "code",
      "metadata": {
        "id": "W79Yd_QJIWpQ",
        "outputId": "d98e15f9-54ca-4534-fdb5-25ed83eb489b",
        "colab": {
          "base_uri": "https://localhost:8080/",
          "height": 485
        }
      },
      "source": [
        "# 悪性か良性かはtarget属性に格納されている．これは569次元のベクトルで表現され，Python中ではnumpy.ndarrayというクラスのオブジェクトとして表現されている．\n",
        "# 0が悪性，1が良性である．\n",
        "cancer.target"
      ],
      "execution_count": null,
      "outputs": [
        {
          "output_type": "execute_result",
          "data": {
            "text/plain": [
              "array([0, 0, 0, 0, 0, 0, 0, 0, 0, 0, 0, 0, 0, 0, 0, 0, 0, 0, 0, 1, 1, 1,\n",
              "       0, 0, 0, 0, 0, 0, 0, 0, 0, 0, 0, 0, 0, 0, 0, 1, 0, 0, 0, 0, 0, 0,\n",
              "       0, 0, 1, 0, 1, 1, 1, 1, 1, 0, 0, 1, 0, 0, 1, 1, 1, 1, 0, 1, 0, 0,\n",
              "       1, 1, 1, 1, 0, 1, 0, 0, 1, 0, 1, 0, 0, 1, 1, 1, 0, 0, 1, 0, 0, 0,\n",
              "       1, 1, 1, 0, 1, 1, 0, 0, 1, 1, 1, 0, 0, 1, 1, 1, 1, 0, 1, 1, 0, 1,\n",
              "       1, 1, 1, 1, 1, 1, 1, 0, 0, 0, 1, 0, 0, 1, 1, 1, 0, 0, 1, 0, 1, 0,\n",
              "       0, 1, 0, 0, 1, 1, 0, 1, 1, 0, 1, 1, 1, 1, 0, 1, 1, 1, 1, 1, 1, 1,\n",
              "       1, 1, 0, 1, 1, 1, 1, 0, 0, 1, 0, 1, 1, 0, 0, 1, 1, 0, 0, 1, 1, 1,\n",
              "       1, 0, 1, 1, 0, 0, 0, 1, 0, 1, 0, 1, 1, 1, 0, 1, 1, 0, 0, 1, 0, 0,\n",
              "       0, 0, 1, 0, 0, 0, 1, 0, 1, 0, 1, 1, 0, 1, 0, 0, 0, 0, 1, 1, 0, 0,\n",
              "       1, 1, 1, 0, 1, 1, 1, 1, 1, 0, 0, 1, 1, 0, 1, 1, 0, 0, 1, 0, 1, 1,\n",
              "       1, 1, 0, 1, 1, 1, 1, 1, 0, 1, 0, 0, 0, 0, 0, 0, 0, 0, 0, 0, 0, 0,\n",
              "       0, 0, 1, 1, 1, 1, 1, 1, 0, 1, 0, 1, 1, 0, 1, 1, 0, 1, 0, 0, 1, 1,\n",
              "       1, 1, 1, 1, 1, 1, 1, 1, 1, 1, 1, 0, 1, 1, 0, 1, 0, 1, 1, 1, 1, 1,\n",
              "       1, 1, 1, 1, 1, 1, 1, 1, 1, 0, 1, 1, 1, 0, 1, 0, 1, 1, 1, 1, 0, 0,\n",
              "       0, 1, 1, 1, 1, 0, 1, 0, 1, 0, 1, 1, 1, 0, 1, 1, 1, 1, 1, 1, 1, 0,\n",
              "       0, 0, 1, 1, 1, 1, 1, 1, 1, 1, 1, 1, 1, 0, 0, 1, 0, 0, 0, 1, 0, 0,\n",
              "       1, 1, 1, 1, 1, 0, 1, 1, 1, 1, 1, 0, 1, 1, 1, 0, 1, 1, 0, 0, 1, 1,\n",
              "       1, 1, 1, 1, 0, 1, 1, 1, 1, 1, 1, 1, 0, 1, 1, 1, 1, 1, 0, 1, 1, 0,\n",
              "       1, 1, 1, 1, 1, 1, 1, 1, 1, 1, 1, 1, 0, 1, 0, 0, 1, 0, 1, 1, 1, 1,\n",
              "       1, 0, 1, 1, 0, 1, 0, 1, 1, 0, 1, 0, 1, 1, 1, 1, 1, 1, 1, 1, 0, 0,\n",
              "       1, 1, 1, 1, 1, 1, 0, 1, 1, 1, 1, 1, 1, 1, 1, 1, 1, 0, 1, 1, 1, 1,\n",
              "       1, 1, 1, 0, 1, 0, 1, 1, 0, 1, 1, 1, 1, 1, 0, 0, 1, 0, 1, 0, 1, 1,\n",
              "       1, 1, 1, 0, 1, 1, 0, 1, 0, 1, 0, 0, 1, 1, 1, 0, 1, 1, 1, 1, 1, 1,\n",
              "       1, 1, 1, 1, 1, 0, 1, 0, 0, 1, 1, 1, 1, 1, 1, 1, 1, 1, 1, 1, 1, 1,\n",
              "       1, 1, 1, 1, 1, 1, 1, 1, 1, 1, 1, 1, 0, 0, 0, 0, 0, 0, 1])"
            ]
          },
          "metadata": {
            "tags": []
          },
          "execution_count": 9
        }
      ]
    },
    {
      "cell_type": "code",
      "metadata": {
        "id": "C_zB1L5mJeKo"
      },
      "source": [
        "# 計画行列の先頭の469行分のベクトルとそれに対応するラベルを訓練データ，残りをテストデータとして用いることにする\n",
        "train_num = 469\n",
        "train_X, test_X = cancer.data[:train_num], cancer.data[train_num:]\n",
        "train_y, test_y = cancer.target[:train_num], cancer.target[train_num:]"
      ],
      "execution_count": null,
      "outputs": []
    },
    {
      "cell_type": "markdown",
      "metadata": {
        "id": "2oewqD8iNaiD"
      },
      "source": [
        "## ロジスティック回帰モデル\n",
        "\n",
        "ロジスティック回帰モデルはシンプルな分類モデルである．1つ前に実践したであろう線形回帰モデルと構造は非常によく似ている．単純であるが解釈性（どのように予測結果が得られたのかの理解が容易であるか）は高い．\n",
        "\n",
        "あるn次元のベクトル${\\mathbf x}$に対して，ロジスティック回帰モデルは以下の式で予測値$\\hat{y}$を求める．\n",
        "\n",
        "$$\\hat{y} = {\\rm argmax}_{y \\in Y} P(y|{\\mathbf x})$$\n",
        "\n",
        "ただし，$Y=\\{0, 1\\}$であり，この式の意味は，$y=0$のときの$P(y|{\\mathbf x})$，すなわち，$P(y=0|{\\mathbf x})$と，$y=1$と設定した場合の$P(y|{\\mathbf x})$，$P(y=1|{\\mathbf x})$を比べて，前者が大きければ$\\hat{y} =0$，後者が大きければ$\\hat{y} =1$とするということである．\n",
        "\n",
        "$P(y|{\\mathbf x})$は，ベクトル${\\mathbf x}$が与えられたときに，どれくらいの確率で$y=0$，または，$y=1$かを表すものであり，以下のように定義するのがロジスティック回帰である（つまり，他にも$P(y|{\\mathbf x})$を推定する式はいろいろ考えられると言うことである）．\n",
        "\n",
        "$$P(y=1|{\\mathbf x}) = \\sigma({\\mathbf w}^T{\\mathbf x}+b)$$\n",
        "\n",
        "${\\mathbf w}$はn次元の実数値ベクトル，$b$は実数である．\n",
        "また，$P(y=0|{\\mathbf x})=1-P(y=1|{\\mathbf x})$と定義することにする．\n",
        "このとき，$P(y=1|{\\mathbf x})>P(y=0|{\\mathbf x})$であることと，$P(y=1|{\\mathbf x})>0.5$は同値であることがわかるであろう．\n",
        "（2種類の事象の一方が起こる確率が半分以上なら，他方の起こる確率は半分以下である）\n",
        "\n",
        "$\\sigma$はシグモイド関数と呼ばれ，以下の式で定義される：\n",
        "\n",
        "$$\\sigma(x) = \\frac{1}{1+\\exp(-x)}$$\n",
        "\n",
        "$P(y=1|{\\mathbf x})$の式をよく見ると，シグモイド関数$\\sigma$の中身は線形回帰モデルである．\n",
        "では，このシグモイド関数がどのような働きをしているかというと，\n",
        "実数値を$[0, 1]$の範囲に押し込んでくれるという効果がある．\n",
        "${\\mathbf w}^T{\\mathbf x}+b$は任意の実数を取り得るが，確率はかならず$[0, 1]$という範囲の値でなければいけないため，この$\\sigma$という便利な関数が用いられている．\n",
        "\n"
      ]
    },
    {
      "cell_type": "code",
      "metadata": {
        "id": "EJiVbJwe-mo7",
        "outputId": "da4a34a8-6393-4a0c-ab04-703b3d67d2de",
        "colab": {
          "base_uri": "https://localhost:8080/",
          "height": 179
        }
      },
      "source": [
        "from sklearn.linear_model import LogisticRegression # scikit-learnからロジスティック回帰モデルLogisticRegressionをimportする\n",
        "from sklearn.metrics import accuracy_score # 性能指標として「精度」をimportする\n",
        "\n",
        "model = LogisticRegression() # ロジスティック回帰モデルを初期化する\n",
        "trained_model = model.fit(train_X, train_y) # 訓練データ train_X, train_y を与えて，モデルを学習（＝パラメータを決定）する\n",
        "predicted_y = trained_model.predict(test_X) # テストデータの事例 test_X のそれぞれに対して，予測値を計算する．\n",
        "performance = accuracy_score(test_y, predicted_y) # 予測値の「精度」を求める．高い方が正確な予測だと言える．\n",
        "print(\"精度\", performance) # 「精度」を出力"
      ],
      "execution_count": null,
      "outputs": [
        {
          "output_type": "stream",
          "text": [
            "精度 0.94\n"
          ],
          "name": "stdout"
        },
        {
          "output_type": "stream",
          "text": [
            "/usr/local/lib/python3.6/dist-packages/sklearn/linear_model/_logistic.py:940: ConvergenceWarning: lbfgs failed to converge (status=1):\n",
            "STOP: TOTAL NO. of ITERATIONS REACHED LIMIT.\n",
            "\n",
            "Increase the number of iterations (max_iter) or scale the data as shown in:\n",
            "    https://scikit-learn.org/stable/modules/preprocessing.html\n",
            "Please also refer to the documentation for alternative solver options:\n",
            "    https://scikit-learn.org/stable/modules/linear_model.html#logistic-regression\n",
            "  extra_warning_msg=_LOGISTIC_SOLVER_CONVERGENCE_MSG)\n"
          ],
          "name": "stderr"
        }
      ]
    },
    {
      "cell_type": "markdown",
      "metadata": {
        "id": "YcR8LIj9TcU6"
      },
      "source": [
        "## 比較の重要性\n",
        "\n",
        "さて，また比較を行ってみよう．精度0.94（9割以上のラベルを正確に予測した）はなかなか高そうである．当てずっぽうの予測とGBDTによる予測とを比較方法としてみよう．"
      ]
    },
    {
      "cell_type": "code",
      "metadata": {
        "id": "2Nd-mhRtUupb",
        "outputId": "f274890b-954f-4ac6-aa08-9368d07555a5",
        "colab": {
          "base_uri": "https://localhost:8080/",
          "height": 53
        }
      },
      "source": [
        "import random\n",
        "from sklearn.ensemble import GradientBoostingClassifier\n",
        "\n",
        "# 比較手法 1\n",
        "predicted_y = [random.randint(0, 1)] * len(test_X) # 0/1をランダムに予測したとする\n",
        "performance = accuracy_score(test_y, predicted_y) # 予測値の精度を求める．大きい方が正確な予測だと言える．\n",
        "print(\"精度 (Random)\", performance)\n",
        "\n",
        "# 比較手法 2\n",
        "model = GradientBoostingClassifier() # GBDTモデルを初期化する\n",
        "trained_model = model.fit(train_X, train_y) # 訓練データ train_X, train_y を与えて，モデルを学習する\n",
        "predicted_y = trained_model.predict(test_X) # テストデータの事例 test_X のそれぞれに対して，予測値を計算する．\n",
        "performance = accuracy_score(test_y, predicted_y) # 予測値の精度を求める．大きい方が正確な予測だと言える．\n",
        "print(\"精度 (GBDT)\", performance)"
      ],
      "execution_count": null,
      "outputs": [
        {
          "output_type": "stream",
          "text": [
            "精度 (Random) 0.77\n",
            "精度 (GBDT) 0.99\n"
          ],
          "name": "stdout"
        }
      ]
    },
    {
      "cell_type": "markdown",
      "metadata": {
        "id": "ZNjMiwrlV6WX"
      },
      "source": [
        "## 比較のまとめ\n",
        "\n",
        "3つの手法を比較し以下のような結果が得られた：\n",
        "\n",
        "- ランダム予測： 0.77\n",
        "- ロジスティック回帰： 0.94\n",
        "- GBDT： 0.99\n",
        "\n",
        "ロジスティック回帰がランダムに比べると非常に良いこと，GBDTが一貫して高い性能を達成できていることがわかる．"
      ]
    },
    {
      "cell_type": "code",
      "metadata": {
        "id": "UGWNz9bkVk86"
      },
      "source": [
        ""
      ],
      "execution_count": null,
      "outputs": []
    }
  ]
}