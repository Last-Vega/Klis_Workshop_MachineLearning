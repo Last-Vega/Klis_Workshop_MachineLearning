{
 "cells": [
  {
   "cell_type": "code",
   "execution_count": 1,
   "metadata": {},
   "outputs": [],
   "source": [
    "import os\n",
    "from keras.applications.vgg16 import VGG16\n",
    "from keras.preprocessing.image import ImageDataGenerator\n",
    "from keras.models import Sequential, Model\n",
    "from keras.layers import Input, Activation, Dropout, Flatten, Dense\n",
    "from keras.preprocessing.image import ImageDataGenerator\n",
    "from keras import optimizers\n",
    "import numpy as np"
   ]
  },
  {
   "cell_type": "code",
   "execution_count": 2,
   "metadata": {},
   "outputs": [],
   "source": [
    "# 分類するクラス\n",
    "classes = ['1', '2', '3', '4', '5', '6', '7', \n",
    "          '8', '9', '10', '11','12']\n",
    "\n",
    "# それぞれ　egg_type_list の['Field', 'Undiscovered', 'Bug', 'Amorphous', 'Dragon', 'Fairy', 'Mineral', \n",
    "#                     'Flying', 'Grass', 'Human-Like', 'Monster', 'Water', 'Ditto']　に対応\n",
    "\n",
    "\n",
    "nb_classes = len(classes)\n",
    "\n",
    "img_width, img_height = 150, 150\n",
    "\n",
    "# トレーニング用とバリデーション用の画像格納先\n",
    "train_data_dir = 'AllDataSet/train'\n",
    "validation_data_dir = 'AllDataSet/validation'\n",
    "\n",
    "# 今回はトレーニング用に664枚、バリデーション用に535枚の画像を用意した。\n",
    "nb_train_samples = 664\n",
    "nb_validation_samples = 535\n",
    "\n",
    "batch_size = 16\n",
    "nb_epoch = 10"
   ]
  },
  {
   "cell_type": "code",
   "execution_count": 3,
   "metadata": {},
   "outputs": [],
   "source": [
    "def vgg_model_maker():\n",
    "    \"\"\" VGG16のモデルをFC層以外使用。FC層のみ作成して結合して用意する \"\"\"\n",
    "\n",
    "    # VGG16のロード。FC層は不要なので include_top=False\n",
    "    input_tensor = Input(shape=(img_width, img_height, 3))\n",
    "    vgg16 = VGG16(include_top=False, weights='imagenet', input_tensor=input_tensor)\n",
    "\n",
    "    # FC層の作成\n",
    "    top_model = Sequential()\n",
    "    top_model.add(Flatten(input_shape=vgg16.output_shape[1:]))\n",
    "    top_model.add(Dense(256, activation='relu'))\n",
    "    top_model.add(Dropout(0.5))\n",
    "    top_model.add(Dense(nb_classes, activation='softmax'))\n",
    "\n",
    "    # VGG16とFC層を結合してモデルを作成\n",
    "    model = Model(inputs=vgg16.input, outputs=top_model(vgg16.output))\n",
    "\n",
    "    return model"
   ]
  },
  {
   "cell_type": "code",
   "execution_count": 4,
   "metadata": {},
   "outputs": [],
   "source": [
    "def image_generator():\n",
    "    \"\"\" ディレクトリ内の画像を読み込んでトレーニングデータとバリデーションデータの作成 \"\"\"\n",
    "    train_datagen = ImageDataGenerator(\n",
    "        rescale=1.0 / 255,\n",
    "        zoom_range=0.2,\n",
    "        horizontal_flip=True)\n",
    "\n",
    "    validation_datagen = ImageDataGenerator(rescale=1.0 / 255)\n",
    "\n",
    "    train_generator = train_datagen.flow_from_directory(\n",
    "        train_data_dir,\n",
    "        target_size=(img_width, img_height),\n",
    "        color_mode='rgb',\n",
    "        classes=classes,\n",
    "        class_mode='categorical',\n",
    "        batch_size=batch_size,\n",
    "        shuffle=True)\n",
    "\n",
    "    validation_generator = validation_datagen.flow_from_directory(\n",
    "        validation_data_dir,\n",
    "        target_size=(img_width, img_height),\n",
    "        color_mode='rgb',\n",
    "        classes=classes,\n",
    "        class_mode='categorical',\n",
    "        batch_size=batch_size,\n",
    "        shuffle=True)\n",
    "\n",
    "    return (train_generator, validation_generator)"
   ]
  },
  {
   "cell_type": "code",
   "execution_count": 5,
   "metadata": {},
   "outputs": [],
   "source": [
    "result_dir = 'results'\n",
    "if not os.path.exists(result_dir):\n",
    "    os.mkdir(result_dir)"
   ]
  },
  {
   "cell_type": "code",
   "execution_count": null,
   "metadata": {},
   "outputs": [
    {
     "name": "stdout",
     "output_type": "stream",
     "text": [
      "Found 664 images belonging to 12 classes.\n",
      "Found 535 images belonging to 12 classes.\n",
      "WARNING:tensorflow:From <ipython-input-6-4b6c00ed796d>:17: Model.fit_generator (from tensorflow.python.keras.engine.training) is deprecated and will be removed in a future version.\n",
      "Instructions for updating:\n",
      "Please use Model.fit, which supports generators.\n",
      "Epoch 1/10\n",
      " 42/664 [>.............................] - ETA: 18:42 - loss: 2.5986 - accuracy: 0.1114WARNING:tensorflow:Your input ran out of data; interrupting training. Make sure that your dataset or generator can generate at least `steps_per_epoch * epochs` batches (in this case, 6640 batches). You may need to use the repeat() function when building your dataset.\n"
     ]
    },
    {
     "name": "stderr",
     "output_type": "stream",
     "text": [
      "/Users/watanabeshingo/opt/anaconda3/lib/python3.8/site-packages/PIL/Image.py:960: UserWarning: Palette images with Transparency expressed in bytes should be converted to RGBA images\n",
      "  warnings.warn(\n"
     ]
    }
   ],
   "source": [
    "# モデル作成\n",
    "vgg_model = vgg_model_maker()\n",
    "\n",
    "# 最後のconv層の直前までの層をfreeze\n",
    "for layer in vgg_model.layers[:15]:\n",
    "    layer.trainable = False\n",
    "\n",
    "# 多クラス分類を指定\n",
    "vgg_model.compile(loss='categorical_crossentropy',\n",
    "                  optimizer=optimizers.SGD(lr=1e-3, momentum=0.9),\n",
    "                metrics=['accuracy'])\n",
    "\n",
    "# 画像のジェネレータ生成\n",
    "train_generator, validation_generator = image_generator()\n",
    "\n",
    "# Fine-tuning\n",
    "history = vgg_model.fit_generator(\n",
    "    train_generator,\n",
    "    steps_per_epoch=nb_train_samples,\n",
    "    epochs=nb_epoch,\n",
    "    validation_data=validation_generator,\n",
    "    validation_steps=nb_validation_samples)\n",
    "\n",
    "vgg_model.save_weights(os.path.join(result_dir, 'finetuning.h5'))"
   ]
  },
  {
   "cell_type": "code",
   "execution_count": null,
   "metadata": {},
   "outputs": [],
   "source": []
  }
 ],
 "metadata": {
  "kernelspec": {
   "display_name": "Python 3",
   "language": "python",
   "name": "python3"
  },
  "language_info": {
   "codemirror_mode": {
    "name": "ipython",
    "version": 3
   },
   "file_extension": ".py",
   "mimetype": "text/x-python",
   "name": "python",
   "nbconvert_exporter": "python",
   "pygments_lexer": "ipython3",
   "version": "3.8.3"
  }
 },
 "nbformat": 4,
 "nbformat_minor": 4
}
