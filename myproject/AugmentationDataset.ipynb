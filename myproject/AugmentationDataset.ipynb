{
 "cells": [
  {
   "cell_type": "code",
   "execution_count": 40,
   "metadata": {},
   "outputs": [],
   "source": [
    "from keras.preprocessing.image import load_img, img_to_array\n",
    "from keras.preprocessing.image import ImageDataGenerator\n",
    "import matplotlib.pyplot as plt\n",
    "import numpy as np\n",
    "import os\n",
    "from os import listdir"
   ]
  },
  {
   "cell_type": "code",
   "execution_count": 52,
   "metadata": {},
   "outputs": [],
   "source": [
    "def train_data_augmentation():\n",
    "    dir_name_list = ['Field', 'Undiscovered', 'Bug', 'Amorphous', 'Dragon', 'Fairy', 'Mineral', \n",
    "                'Flying', 'Grass', 'Human-Like', 'Monster', 'Water']\n",
    "    for dir_name in dir_name_list:\n",
    "        target_dir = './AllDataSet/train/' + dir_name + '/'\n",
    "        # .DS_Storeの削除\n",
    "        fltr_list = [filename for filename in listdir(target_dir) if not filename.startswith('.')]\n",
    "        \n",
    "        for filename in fltr_list:\n",
    "            original_image = load_img(target_dir + filename)\n",
    "            x = img_to_array(original_image)\n",
    "            x = np.expand_dims(x, axis=0)\n",
    "\n",
    "            # ImageDataGeneratorの生成\n",
    "            datagen = ImageDataGenerator(\n",
    "                horizontal_flip=True, \n",
    "                vertical_flip=True\n",
    "            )\n",
    "\n",
    "            # 3個の画像を生成します\n",
    "            g = datagen.flow(x, batch_size=1, save_to_dir=target_dir, save_prefix='fliped', save_format='png')\n",
    "            for i in range(3):\n",
    "                batch = g.next()\n",
    "        "
   ]
  },
  {
   "cell_type": "code",
   "execution_count": 53,
   "metadata": {},
   "outputs": [],
   "source": [
    "train_data_augmentation()"
   ]
  },
  {
   "cell_type": "code",
   "execution_count": 54,
   "metadata": {},
   "outputs": [],
   "source": [
    "def validation_data_augmentation():\n",
    "    dir_name_list = ['Field', 'Undiscovered', 'Bug', 'Amorphous', 'Dragon', 'Fairy', 'Mineral', \n",
    "                'Flying', 'Grass', 'Human-Like', 'Monster', 'Water']\n",
    "    for dir_name in dir_name_list:\n",
    "        target_dir = './AllDataSet/validation/' + dir_name + '/'\n",
    "        # .DS_Storeの削除\n",
    "        fltr_list = [filename for filename in listdir(target_dir) if not filename.startswith('.')]\n",
    "        \n",
    "        for filename in fltr_list:\n",
    "            original_image = load_img(target_dir + filename)\n",
    "            x = img_to_array(original_image)\n",
    "            x = np.expand_dims(x, axis=0)\n",
    "\n",
    "            # ImageDataGeneratorの生成\n",
    "            datagen = ImageDataGenerator(\n",
    "                horizontal_flip=True, \n",
    "                vertical_flip=True\n",
    "            )\n",
    "\n",
    "            # 3個の画像を生成します\n",
    "            g = datagen.flow(x, batch_size=1, save_to_dir=target_dir, save_prefix='fliped', save_format='png')\n",
    "            for i in range(3):\n",
    "                batch = g.next()"
   ]
  },
  {
   "cell_type": "code",
   "execution_count": 55,
   "metadata": {},
   "outputs": [
    {
     "name": "stderr",
     "output_type": "stream",
     "text": [
      "/Users/watanabeshingo/opt/anaconda3/lib/python3.8/site-packages/PIL/Image.py:960: UserWarning: Palette images with Transparency expressed in bytes should be converted to RGBA images\n",
      "  warnings.warn(\n"
     ]
    }
   ],
   "source": [
    "validation_data_augmentation()"
   ]
  },
  {
   "cell_type": "code",
   "execution_count": null,
   "metadata": {},
   "outputs": [],
   "source": []
  }
 ],
 "metadata": {
  "kernelspec": {
   "display_name": "Python 3",
   "language": "python",
   "name": "python3"
  },
  "language_info": {
   "codemirror_mode": {
    "name": "ipython",
    "version": 3
   },
   "file_extension": ".py",
   "mimetype": "text/x-python",
   "name": "python",
   "nbconvert_exporter": "python",
   "pygments_lexer": "ipython3",
   "version": "3.8.3"
  }
 },
 "nbformat": 4,
 "nbformat_minor": 4
}
