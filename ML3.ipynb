{
  "nbformat": 4,
  "nbformat_minor": 0,
  "metadata": {
    "colab": {
      "name": "ML3.ipynb",
      "provenance": [],
      "authorship_tag": "ABX9TyMosdytybdKx9/2Ahvy+Q58",
      "include_colab_link": true
    },
    "kernelspec": {
      "name": "python3",
      "display_name": "Python 3"
    }
  },
  "cells": [
    {
      "cell_type": "markdown",
      "metadata": {
        "id": "view-in-github",
        "colab_type": "text"
      },
      "source": [
        "<a href=\"https://colab.research.google.com/github/Last-Vega/Klis_Workshop_MachineLearning/blob/master/ML3.ipynb\" target=\"_parent\"><img src=\"https://colab.research.google.com/assets/colab-badge.svg\" alt=\"Open In Colab\"/></a>"
      ]
    },
    {
      "cell_type": "code",
      "metadata": {
        "id": "8lbzT3NudGhW",
        "outputId": "b89a43b4-593d-4abf-82df-f78c3708ef3c",
        "colab": {
          "base_uri": "https://localhost:8080/",
          "height": 904
        }
      },
      "source": [
        "from sklearn.datasets import load_boston # scikit-learnという機械学習のためのPythonパッケージからBoston house-price dataを読み込むための関数load_bostonをimportする．\n",
        "boston = load_boston() # load_boston関数を実行してBoston house-price dataを読み込み，それをbostonという変数に代入\n",
        "print(boston.DESCR) # DESCRという属性にはデータセットの詳細が書かれているので，これをprintで表示させる．"
      ],
      "execution_count": 1,
      "outputs": [
        {
          "output_type": "stream",
          "text": [
            ".. _boston_dataset:\n",
            "\n",
            "Boston house prices dataset\n",
            "---------------------------\n",
            "\n",
            "**Data Set Characteristics:**  \n",
            "\n",
            "    :Number of Instances: 506 \n",
            "\n",
            "    :Number of Attributes: 13 numeric/categorical predictive. Median Value (attribute 14) is usually the target.\n",
            "\n",
            "    :Attribute Information (in order):\n",
            "        - CRIM     per capita crime rate by town\n",
            "        - ZN       proportion of residential land zoned for lots over 25,000 sq.ft.\n",
            "        - INDUS    proportion of non-retail business acres per town\n",
            "        - CHAS     Charles River dummy variable (= 1 if tract bounds river; 0 otherwise)\n",
            "        - NOX      nitric oxides concentration (parts per 10 million)\n",
            "        - RM       average number of rooms per dwelling\n",
            "        - AGE      proportion of owner-occupied units built prior to 1940\n",
            "        - DIS      weighted distances to five Boston employment centres\n",
            "        - RAD      index of accessibility to radial highways\n",
            "        - TAX      full-value property-tax rate per $10,000\n",
            "        - PTRATIO  pupil-teacher ratio by town\n",
            "        - B        1000(Bk - 0.63)^2 where Bk is the proportion of blacks by town\n",
            "        - LSTAT    % lower status of the population\n",
            "        - MEDV     Median value of owner-occupied homes in $1000's\n",
            "\n",
            "    :Missing Attribute Values: None\n",
            "\n",
            "    :Creator: Harrison, D. and Rubinfeld, D.L.\n",
            "\n",
            "This is a copy of UCI ML housing dataset.\n",
            "https://archive.ics.uci.edu/ml/machine-learning-databases/housing/\n",
            "\n",
            "\n",
            "This dataset was taken from the StatLib library which is maintained at Carnegie Mellon University.\n",
            "\n",
            "The Boston house-price data of Harrison, D. and Rubinfeld, D.L. 'Hedonic\n",
            "prices and the demand for clean air', J. Environ. Economics & Management,\n",
            "vol.5, 81-102, 1978.   Used in Belsley, Kuh & Welsch, 'Regression diagnostics\n",
            "...', Wiley, 1980.   N.B. Various transformations are used in the table on\n",
            "pages 244-261 of the latter.\n",
            "\n",
            "The Boston house-price data has been used in many machine learning papers that address regression\n",
            "problems.   \n",
            "     \n",
            ".. topic:: References\n",
            "\n",
            "   - Belsley, Kuh & Welsch, 'Regression diagnostics: Identifying Influential Data and Sources of Collinearity', Wiley, 1980. 244-261.\n",
            "   - Quinlan,R. (1993). Combining Instance-Based and Model-Based Learning. In Proceedings on the Tenth International Conference of Machine Learning, 236-243, University of Massachusetts, Amherst. Morgan Kaufmann.\n",
            "\n"
          ],
          "name": "stdout"
        }
      ]
    },
    {
      "cell_type": "code",
      "metadata": {
        "id": "2feU91JBdLtd",
        "outputId": "40821170-969f-450f-ff0a-31de07a6bedf",
        "colab": {
          "base_uri": "https://localhost:8080/",
          "height": 238
        }
      },
      "source": [
        "boston.data # dataという属性に13次元のベクトルが格納されている．Colabでは各セルの最後の行の出力が自動的に出力される．"
      ],
      "execution_count": 2,
      "outputs": [
        {
          "output_type": "execute_result",
          "data": {
            "text/plain": [
              "array([[6.3200e-03, 1.8000e+01, 2.3100e+00, ..., 1.5300e+01, 3.9690e+02,\n",
              "        4.9800e+00],\n",
              "       [2.7310e-02, 0.0000e+00, 7.0700e+00, ..., 1.7800e+01, 3.9690e+02,\n",
              "        9.1400e+00],\n",
              "       [2.7290e-02, 0.0000e+00, 7.0700e+00, ..., 1.7800e+01, 3.9283e+02,\n",
              "        4.0300e+00],\n",
              "       ...,\n",
              "       [6.0760e-02, 0.0000e+00, 1.1930e+01, ..., 2.1000e+01, 3.9690e+02,\n",
              "        5.6400e+00],\n",
              "       [1.0959e-01, 0.0000e+00, 1.1930e+01, ..., 2.1000e+01, 3.9345e+02,\n",
              "        6.4800e+00],\n",
              "       [4.7410e-02, 0.0000e+00, 1.1930e+01, ..., 2.1000e+01, 3.9690e+02,\n",
              "        7.8800e+00]])"
            ]
          },
          "metadata": {
            "tags": []
          },
          "execution_count": 2
        }
      ]
    },
    {
      "cell_type": "code",
      "metadata": {
        "id": "ByMz7GtIpNNd",
        "outputId": "b3e356a2-eb77-4a6e-d921-e784f1491681",
        "colab": {
          "base_uri": "https://localhost:8080/",
          "height": 34
        }
      },
      "source": [
        "# 13次元のベクトルは行ベクトル（横長のベクトル）で表現されており，それが506個積み重なることによって行列として表現されている（計画行列とも呼ぶ）．つまり，506行 x 13列の行列となっている．\n",
        "# この行列はnumpy.ndarrayというクラスのオブジェクトとして表現されており，shapeという属性には行と列の値が格納されている．\n",
        "boston.data.shape"
      ],
      "execution_count": 3,
      "outputs": [
        {
          "output_type": "execute_result",
          "data": {
            "text/plain": [
              "(506, 13)"
            ]
          },
          "metadata": {
            "tags": []
          },
          "execution_count": 3
        }
      ]
    },
    {
      "cell_type": "code",
      "metadata": {
        "id": "3QfSUI97qyo-",
        "outputId": "d693e09d-de5f-4b8a-9bba-217845382227",
        "colab": {
          "base_uri": "https://localhost:8080/",
          "height": 68
        }
      },
      "source": [
        "boston.data[0] # 試しに1行目のベクトルを取り出してみる．13次元のベクトルであることが確認できる．"
      ],
      "execution_count": 4,
      "outputs": [
        {
          "output_type": "execute_result",
          "data": {
            "text/plain": [
              "array([6.320e-03, 1.800e+01, 2.310e+00, 0.000e+00, 5.380e-01, 6.575e+00,\n",
              "       6.520e+01, 4.090e+00, 1.000e+00, 2.960e+02, 1.530e+01, 3.969e+02,\n",
              "       4.980e+00])"
            ]
          },
          "metadata": {
            "tags": []
          },
          "execution_count": 4
        }
      ]
    },
    {
      "cell_type": "code",
      "metadata": {
        "id": "jaFyfMSXq0u3",
        "outputId": "7e58cbb7-96ee-46f7-fcd5-fe882a5986a9",
        "colab": {
          "base_uri": "https://localhost:8080/",
          "height": 68
        }
      },
      "source": [
        "boston.data[1] # 試しに2行目のベクトルも取り出してみる"
      ],
      "execution_count": 5,
      "outputs": [
        {
          "output_type": "execute_result",
          "data": {
            "text/plain": [
              "array([2.7310e-02, 0.0000e+00, 7.0700e+00, 0.0000e+00, 4.6900e-01,\n",
              "       6.4210e+00, 7.8900e+01, 4.9671e+00, 2.0000e+00, 2.4200e+02,\n",
              "       1.7800e+01, 3.9690e+02, 9.1400e+00])"
            ]
          },
          "metadata": {
            "tags": []
          },
          "execution_count": 5
        }
      ]
    },
    {
      "cell_type": "code",
      "metadata": {
        "id": "gnAr9fi1q2yt",
        "outputId": "6c3df50e-b1bf-425d-d0a2-0365e2c02b73",
        "colab": {
          "base_uri": "https://localhost:8080/",
          "height": 799
        }
      },
      "source": [
        "# 各住宅の価格はtarget属性に格納されている．これは506次元のベクトルで表現され，Python中ではnumpy.ndarrayというクラスのオブジェクトとして表現されている．\n",
        "boston.target"
      ],
      "execution_count": 6,
      "outputs": [
        {
          "output_type": "execute_result",
          "data": {
            "text/plain": [
              "array([24. , 21.6, 34.7, 33.4, 36.2, 28.7, 22.9, 27.1, 16.5, 18.9, 15. ,\n",
              "       18.9, 21.7, 20.4, 18.2, 19.9, 23.1, 17.5, 20.2, 18.2, 13.6, 19.6,\n",
              "       15.2, 14.5, 15.6, 13.9, 16.6, 14.8, 18.4, 21. , 12.7, 14.5, 13.2,\n",
              "       13.1, 13.5, 18.9, 20. , 21. , 24.7, 30.8, 34.9, 26.6, 25.3, 24.7,\n",
              "       21.2, 19.3, 20. , 16.6, 14.4, 19.4, 19.7, 20.5, 25. , 23.4, 18.9,\n",
              "       35.4, 24.7, 31.6, 23.3, 19.6, 18.7, 16. , 22.2, 25. , 33. , 23.5,\n",
              "       19.4, 22. , 17.4, 20.9, 24.2, 21.7, 22.8, 23.4, 24.1, 21.4, 20. ,\n",
              "       20.8, 21.2, 20.3, 28. , 23.9, 24.8, 22.9, 23.9, 26.6, 22.5, 22.2,\n",
              "       23.6, 28.7, 22.6, 22. , 22.9, 25. , 20.6, 28.4, 21.4, 38.7, 43.8,\n",
              "       33.2, 27.5, 26.5, 18.6, 19.3, 20.1, 19.5, 19.5, 20.4, 19.8, 19.4,\n",
              "       21.7, 22.8, 18.8, 18.7, 18.5, 18.3, 21.2, 19.2, 20.4, 19.3, 22. ,\n",
              "       20.3, 20.5, 17.3, 18.8, 21.4, 15.7, 16.2, 18. , 14.3, 19.2, 19.6,\n",
              "       23. , 18.4, 15.6, 18.1, 17.4, 17.1, 13.3, 17.8, 14. , 14.4, 13.4,\n",
              "       15.6, 11.8, 13.8, 15.6, 14.6, 17.8, 15.4, 21.5, 19.6, 15.3, 19.4,\n",
              "       17. , 15.6, 13.1, 41.3, 24.3, 23.3, 27. , 50. , 50. , 50. , 22.7,\n",
              "       25. , 50. , 23.8, 23.8, 22.3, 17.4, 19.1, 23.1, 23.6, 22.6, 29.4,\n",
              "       23.2, 24.6, 29.9, 37.2, 39.8, 36.2, 37.9, 32.5, 26.4, 29.6, 50. ,\n",
              "       32. , 29.8, 34.9, 37. , 30.5, 36.4, 31.1, 29.1, 50. , 33.3, 30.3,\n",
              "       34.6, 34.9, 32.9, 24.1, 42.3, 48.5, 50. , 22.6, 24.4, 22.5, 24.4,\n",
              "       20. , 21.7, 19.3, 22.4, 28.1, 23.7, 25. , 23.3, 28.7, 21.5, 23. ,\n",
              "       26.7, 21.7, 27.5, 30.1, 44.8, 50. , 37.6, 31.6, 46.7, 31.5, 24.3,\n",
              "       31.7, 41.7, 48.3, 29. , 24. , 25.1, 31.5, 23.7, 23.3, 22. , 20.1,\n",
              "       22.2, 23.7, 17.6, 18.5, 24.3, 20.5, 24.5, 26.2, 24.4, 24.8, 29.6,\n",
              "       42.8, 21.9, 20.9, 44. , 50. , 36. , 30.1, 33.8, 43.1, 48.8, 31. ,\n",
              "       36.5, 22.8, 30.7, 50. , 43.5, 20.7, 21.1, 25.2, 24.4, 35.2, 32.4,\n",
              "       32. , 33.2, 33.1, 29.1, 35.1, 45.4, 35.4, 46. , 50. , 32.2, 22. ,\n",
              "       20.1, 23.2, 22.3, 24.8, 28.5, 37.3, 27.9, 23.9, 21.7, 28.6, 27.1,\n",
              "       20.3, 22.5, 29. , 24.8, 22. , 26.4, 33.1, 36.1, 28.4, 33.4, 28.2,\n",
              "       22.8, 20.3, 16.1, 22.1, 19.4, 21.6, 23.8, 16.2, 17.8, 19.8, 23.1,\n",
              "       21. , 23.8, 23.1, 20.4, 18.5, 25. , 24.6, 23. , 22.2, 19.3, 22.6,\n",
              "       19.8, 17.1, 19.4, 22.2, 20.7, 21.1, 19.5, 18.5, 20.6, 19. , 18.7,\n",
              "       32.7, 16.5, 23.9, 31.2, 17.5, 17.2, 23.1, 24.5, 26.6, 22.9, 24.1,\n",
              "       18.6, 30.1, 18.2, 20.6, 17.8, 21.7, 22.7, 22.6, 25. , 19.9, 20.8,\n",
              "       16.8, 21.9, 27.5, 21.9, 23.1, 50. , 50. , 50. , 50. , 50. , 13.8,\n",
              "       13.8, 15. , 13.9, 13.3, 13.1, 10.2, 10.4, 10.9, 11.3, 12.3,  8.8,\n",
              "        7.2, 10.5,  7.4, 10.2, 11.5, 15.1, 23.2,  9.7, 13.8, 12.7, 13.1,\n",
              "       12.5,  8.5,  5. ,  6.3,  5.6,  7.2, 12.1,  8.3,  8.5,  5. , 11.9,\n",
              "       27.9, 17.2, 27.5, 15. , 17.2, 17.9, 16.3,  7. ,  7.2,  7.5, 10.4,\n",
              "        8.8,  8.4, 16.7, 14.2, 20.8, 13.4, 11.7,  8.3, 10.2, 10.9, 11. ,\n",
              "        9.5, 14.5, 14.1, 16.1, 14.3, 11.7, 13.4,  9.6,  8.7,  8.4, 12.8,\n",
              "       10.5, 17.1, 18.4, 15.4, 10.8, 11.8, 14.9, 12.6, 14.1, 13. , 13.4,\n",
              "       15.2, 16.1, 17.8, 14.9, 14.1, 12.7, 13.5, 14.9, 20. , 16.4, 17.7,\n",
              "       19.5, 20.2, 21.4, 19.9, 19. , 19.1, 19.1, 20.1, 19.9, 19.6, 23.2,\n",
              "       29.8, 13.8, 13.3, 16.7, 12. , 14.6, 21.4, 23. , 23.7, 25. , 21.8,\n",
              "       20.6, 21.2, 19.1, 20.6, 15.2,  7. ,  8.1, 13.6, 20.1, 21.8, 24.5,\n",
              "       23.1, 19.7, 18.3, 21.2, 17.5, 16.8, 22.4, 20.6, 23.9, 22. , 11.9])"
            ]
          },
          "metadata": {
            "tags": []
          },
          "execution_count": 6
        }
      ]
    },
    {
      "cell_type": "code",
      "metadata": {
        "id": "GTYZgBugq8jz",
        "outputId": "294918a3-c8e9-4f00-cb6e-19c8bcda263d",
        "colab": {
          "base_uri": "https://localhost:8080/",
          "height": 34
        }
      },
      "source": [
        "boston.target[0] # 試しに1次元目の値を取り出してみる．"
      ],
      "execution_count": 7,
      "outputs": [
        {
          "output_type": "execute_result",
          "data": {
            "text/plain": [
              "24.0"
            ]
          },
          "metadata": {
            "tags": []
          },
          "execution_count": 7
        }
      ]
    },
    {
      "cell_type": "code",
      "metadata": {
        "id": "_9vxAtRcq_aN",
        "outputId": "7dd6b213-0f6f-45f5-a619-31a51daddd1b",
        "colab": {
          "base_uri": "https://localhost:8080/",
          "height": 34
        }
      },
      "source": [
        "boston.target[1] # 試しに2次元目の値も取り出してみる．"
      ],
      "execution_count": 8,
      "outputs": [
        {
          "output_type": "execute_result",
          "data": {
            "text/plain": [
              "21.6"
            ]
          },
          "metadata": {
            "tags": []
          },
          "execution_count": 8
        }
      ]
    },
    {
      "cell_type": "code",
      "metadata": {
        "id": "07ZqUhacr6c8",
        "outputId": "f1761092-2fe1-44b1-c8fd-3d95e356590d",
        "colab": {
          "base_uri": "https://localhost:8080/",
          "height": 34
        }
      },
      "source": [
        "boston.target.shape"
      ],
      "execution_count": 9,
      "outputs": [
        {
          "output_type": "execute_result",
          "data": {
            "text/plain": [
              "(506,)"
            ]
          },
          "metadata": {
            "tags": []
          },
          "execution_count": 9
        }
      ]
    },
    {
      "cell_type": "code",
      "metadata": {
        "id": "Ppymxpq2rBDx"
      },
      "source": [
        "# 計画行列の先頭の406行分のベクトルとそれに対応するラベルを訓練データ，残りをテストデータとして用いることにする\n",
        "#406までが訓練データ\n",
        "train_num = 406\n",
        "train_X, test_X = boston.data[:train_num], boston.data[train_num:]\n",
        "train_y, test_y = boston.target[:train_num], boston.target[train_num:]"
      ],
      "execution_count": 10,
      "outputs": []
    },
    {
      "cell_type": "code",
      "metadata": {
        "id": "vd2GAEbbrQ7U",
        "outputId": "5b22fb3d-ccea-43ac-f339-5f05753444e8",
        "colab": {
          "base_uri": "https://localhost:8080/",
          "height": 34
        }
      },
      "source": [
        "from sklearn.linear_model import LinearRegression # scikit-learnから線形回帰モデルLinearRegressionをimportする\n",
        "from sklearn.metrics import mean_squared_error # 性能指標としてMean Squared Error (MSE; 平均二乗誤差)をimportする\n",
        "\n",
        "model = LinearRegression() # 線形回帰モデルを初期化する\n",
        "trained_model = model.fit(train_X, train_y) # 訓練データ train_X, train_y を与えて，モデルを学習（＝パラメータを決定）する\n",
        "predicted_y = trained_model.predict(test_X) # テストデータの事例 test_X のそれぞれに対して，予測値を計算する．\n",
        "performance = mean_squared_error(test_y, predicted_y) # 予測値と実測値の差をMSEで求める．小さい方が正確な予測だと言える．\n",
        "print(\"MSE\", performance) # MSEを出力"
      ],
      "execution_count": 11,
      "outputs": [
        {
          "output_type": "stream",
          "text": [
            "MSE 33.54828291225656\n"
          ],
          "name": "stdout"
        }
      ]
    },
    {
      "cell_type": "code",
      "metadata": {
        "id": "kvcDmvh2FNik"
      },
      "source": [
        ""
      ],
      "execution_count": 11,
      "outputs": []
    },
    {
      "cell_type": "code",
      "metadata": {
        "id": "aJ1SSnF2tPFP",
        "outputId": "616d454c-6976-43dd-806a-13d6865a82b0",
        "colab": {
          "base_uri": "https://localhost:8080/",
          "height": 221
        }
      },
      "source": [
        "# 個別の事例についてどのように予測が行われるか確認しよう\n",
        "print(\"Instance #1\\n\", test_X[0]) # テストデータの1つ目の事例を出力\n",
        "print(\"Prediction #1\", predicted_y[0]) # テストデータの1つ目の事例に対する予測値を出力\n",
        "print(\"Coefficient\\n\", trained_model.coef_) # 学習済み線形回帰モデルのパラメータw（係数，つまり，coefficientとも呼ばれる）を出力\n",
        "print(\"Intercept\", trained_model.intercept_) # 学習済み線形回帰モデルのパラメータb（切片，つまり，interceptとも呼ばれる）を出力\n",
        "\n",
        "# 先述の線形回帰モデルの説明通り予測が行われているか確認しよう\n",
        "manual_pred = 0\n",
        "for i in range(13):\n",
        "  manual_pred += test_X[0][i] * trained_model.coef_[i] # x, wの両ベクトルの同じ次元同士をかけ，すべて足しあわせる\n",
        "manual_pred += trained_model.intercept_ # 最後にbを足す\n",
        "print(\"Manual Prediction #1\", manual_pred) # これが予測値と一致するはず"
      ],
      "execution_count": 12,
      "outputs": [
        {
          "output_type": "stream",
          "text": [
            "Instance #1\n",
            " [2.07162e+01 0.00000e+00 1.81000e+01 0.00000e+00 6.59000e-01 4.13800e+00\n",
            " 1.00000e+02 1.17810e+00 2.40000e+01 6.66000e+02 2.02000e+01 3.70220e+02\n",
            " 2.33400e+01]\n",
            "Prediction #1 6.787739989408138\n",
            "Coefficient\n",
            " [-1.91271945e-01  4.40546273e-02  5.20506841e-02  1.89168396e+00\n",
            " -1.49400807e+01  4.75726400e+00  2.70270874e-03 -1.30022119e+00\n",
            "  4.58902714e-01 -1.55840407e-02 -8.11094905e-01 -2.16355137e-03\n",
            " -5.32320487e-01]\n",
            "Intercept 30.20429814421056\n",
            "Manual Prediction #1 6.787739989408138\n"
          ],
          "name": "stdout"
        }
      ]
    },
    {
      "cell_type": "code",
      "metadata": {
        "id": "wvCVaJj2Ql4Q",
        "outputId": "506a0c02-9e47-4288-deeb-c13a75cf341d",
        "colab": {
          "base_uri": "https://localhost:8080/",
          "height": 51
        }
      },
      "source": [
        "print(\"Coefficient\\n\", max(trained_model.coef_))"
      ],
      "execution_count": 19,
      "outputs": [
        {
          "output_type": "stream",
          "text": [
            "Coefficient\n",
            " 4.757264001199135\n"
          ],
          "name": "stdout"
        }
      ]
    },
    {
      "cell_type": "code",
      "metadata": {
        "id": "7ICz3zj5QOsK"
      },
      "source": [
        ""
      ],
      "execution_count": null,
      "outputs": []
    },
    {
      "cell_type": "code",
      "metadata": {
        "id": "SEu3WIfItf_B"
      },
      "source": [
        "from sklearn.ensemble import GradientBoostingRegressor\n",
        "\n",
        "# 比較手法 1\n",
        "predicted_y = [20] * len(test_X) # [20, 20, ..., 20] というように，全テストデータの事例に対して20という値を予測したとする\n",
        "performance = mean_squared_error(test_y, predicted_y) # 予測値と実測値の差をMSEで求める．小さい方が正確な予測だと言える．\n",
        "print(\"MSE (Naive)\", performance) # MSEを出力\n",
        "\n",
        "# 比較手法 2\n",
        "model = GradientBoostingRegressor() # GBDTモデルを初期化する\n",
        "trained_model = model.fit(train_X, train_y) # 訓練データ train_X, train_y を与えて，モデルを学習する\n",
        "predicted_y = trained_model.predict(test_X) # テストデータの事例 test_X のそれぞれに対して，予測値を計算する．\n",
        "performance = mean_squared_error(test_y, predicted_y) # 予測値と実測値の差をMSEで求める．小さい方が正確な予測だと言える．\n",
        "print(\"MSE (GBDT)\", performance) # MSEを出力"
      ],
      "execution_count": null,
      "outputs": []
    },
    {
      "cell_type": "code",
      "metadata": {
        "id": "S3xYwW6WuBbj"
      },
      "source": [
        "print(trained_model)"
      ],
      "execution_count": null,
      "outputs": []
    },
    {
      "cell_type": "code",
      "metadata": {
        "id": "lwbGrwp2D_tr"
      },
      "source": [
        "boston.feature_names"
      ],
      "execution_count": null,
      "outputs": []
    },
    {
      "cell_type": "code",
      "metadata": {
        "id": "zv0_4SGHEElt"
      },
      "source": [
        "from sklearn.model_selection import train_test_split\n",
        "boston = load_boston()\n",
        "feature = []\n",
        "coef = []\n",
        "abs_coef = []\n",
        "contribution_rate = []\n",
        "for i in range(0, 13):\n",
        "    train_X, test_X, train_y, test_y = train_test_split(boston.data[:,i], boston.target, random_state=0)\n",
        "\n",
        "    train_X = train_X.reshape((-1, 1))\n",
        "    test_X = test_X.reshape((-1, 1))\n",
        "\n",
        "    model = LinearRegression()\n",
        "    model.fit(train_X, train_y)\n",
        "    feature.append(boston.feature_names[i])\n",
        "    coef.append(float(model.coef_))\n",
        "    abs_coef.append(float(abs(model.coef_)))\n",
        "\n",
        "#寄与率の算出\n",
        "for i in abs_coef:\n",
        "    j = -i / sum(coef) *100\n",
        "    contribution_rate.append(j)\n"
      ],
      "execution_count": 16,
      "outputs": []
    },
    {
      "cell_type": "code",
      "metadata": {
        "id": "ei31lWvdE-pL",
        "outputId": "ae908e28-591b-498c-f435-9b01dc9327d0",
        "colab": {
          "base_uri": "https://localhost:8080/",
          "height": 238
        }
      },
      "source": [
        "dict = {}\n",
        "for f, c in zip(feature, coef):\n",
        "  dict[f] = c\n",
        "sorted(dict.items(), key=lambda x:x[1])"
      ],
      "execution_count": 18,
      "outputs": [
        {
          "output_type": "execute_result",
          "data": {
            "text/plain": [
              "[('NOX', -36.03626490910177),\n",
              " ('PTRATIO', -2.348986808708933),\n",
              " ('LSTAT', -0.970630965034644),\n",
              " ('INDUS', -0.6947497150206814),\n",
              " ('CRIM', -0.45349691354636185),\n",
              " ('RAD', -0.4427901798092098),\n",
              " ('AGE', -0.13522314225232845),\n",
              " ('TAX', -0.027401758132168476),\n",
              " ('B', 0.03625843133807112),\n",
              " ('ZN', 0.15311244261073217),\n",
              " ('DIS', 1.2169275912770738),\n",
              " ('CHAS', 5.780598870056499),\n",
              " ('RM', 9.312949225629252)]"
            ]
          },
          "metadata": {
            "tags": []
          },
          "execution_count": 18
        }
      ]
    },
    {
      "cell_type": "code",
      "metadata": {
        "id": "oW4FPJfhMtz1"
      },
      "source": [
        "print(feature)"
      ],
      "execution_count": null,
      "outputs": []
    }
  ]
}